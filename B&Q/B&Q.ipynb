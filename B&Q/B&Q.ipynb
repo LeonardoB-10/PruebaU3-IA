{
 "cells": [
  {
   "cell_type": "code",
   "execution_count": 2,
   "id": "05ae1231",
   "metadata": {},
   "outputs": [],
   "source": [
    "import pandas as pd\n",
    "import json"
   ]
  },
  {
   "cell_type": "code",
   "execution_count": 3,
   "id": "407b2123",
   "metadata": {},
   "outputs": [
    {
     "ename": "FileNotFoundError",
     "evalue": "[Errno 2] No such file or directory: 'yelp_academic_dataset_business.json'",
     "output_type": "error",
     "traceback": [
      "\u001b[1;31m---------------------------------------------------------------------------\u001b[0m",
      "\u001b[1;31mFileNotFoundError\u001b[0m                         Traceback (most recent call last)",
      "\u001b[1;32mC:\\Users\\VINICI~1\\AppData\\Local\\Temp/ipykernel_36156/1058072444.py\u001b[0m in \u001b[0;36m<module>\u001b[1;34m\u001b[0m\n\u001b[0;32m      1\u001b[0m \u001b[1;31m# Load the data about businesses\u001b[0m\u001b[1;33m\u001b[0m\u001b[1;33m\u001b[0m\u001b[0m\n\u001b[1;32m----> 2\u001b[1;33m \u001b[0mbiz_file\u001b[0m \u001b[1;33m=\u001b[0m \u001b[0mopen\u001b[0m\u001b[1;33m(\u001b[0m\u001b[1;34m'yelp_academic_dataset_business.json'\u001b[0m\u001b[1;33m)\u001b[0m\u001b[1;33m\u001b[0m\u001b[1;33m\u001b[0m\u001b[0m\n\u001b[0m",
      "\u001b[1;31mFileNotFoundError\u001b[0m: [Errno 2] No such file or directory: 'yelp_academic_dataset_business.json'"
     ]
    }
   ],
   "source": [
    "# Load the data about businesses\n",
    "biz_file = open('yelp_academic_dataset_business.json')"
   ]
  },
  {
   "cell_type": "code",
   "execution_count": null,
   "id": "2a3cfa9d",
   "metadata": {},
   "outputs": [],
   "source": [
    "biz_df = pd.DataFrame([json.loads(x) for x in biz_file.readlines()])"
   ]
  },
  {
   "cell_type": "code",
   "execution_count": null,
   "id": "61dc5622",
   "metadata": {},
   "outputs": [],
   "source": [
    "biz_df "
   ]
  },
  {
   "cell_type": "code",
   "execution_count": 4,
   "id": "ea7526a2",
   "metadata": {},
   "outputs": [],
   "source": [
    "biz_file.close()"
   ]
  },
  {
   "cell_type": "code",
   "execution_count": 5,
   "id": "bdbd37b6",
   "metadata": {},
   "outputs": [],
   "source": [
    "import matplotlib.pyplot as plt\n",
    "import seaborn as sns"
   ]
  },
  {
   "cell_type": "code",
   "execution_count": 6,
   "id": "4e09df3e",
   "metadata": {},
   "outputs": [
    {
     "data": {
      "text/plain": [
       "Text(0, 0.5, 'Occurrence')"
      ]
     },
     "execution_count": 6,
     "metadata": {},
     "output_type": "execute_result"
    },
    {
     "data": {
      "image/png": "[encoded data removed]",
      "text/plain": [
       "<Figure size 432x288 with 1 Axes>"
      ]
     },
     "metadata": {},
     "output_type": "display_data"
    }
   ],
   "source": [
    "#Plot the histogram of the review counts\n",
    "sns.set_style('whitegrid')\n",
    "fig, ax = plt.subplots()\n",
    "biz_df['review_count'].hist(ax=ax, bins=100)\n",
    "ax.set_yscale('log')\n",
    "ax.tick_params(labelsize=14)\n",
    "ax.set_xlabel('Review Count', fontsize=14)\n",
    "ax.set_ylabel('Occurrence', fontsize=14)"
   ]
  },
  {
   "cell_type": "markdown",
   "id": "b69caee6",
   "metadata": {},
   "source": [
    "Los recuentos sin procesar (brutos) que abarcan varios órdenes de magnitud son problemáticos para muchos modelos. En un modelo lineal, el mismo coeficiente lineal tendría que funcionar para todos los valores posibles del recuento. Los recuentos grandes también podrían causar estragos en los métodos de aprendizaje no supervisados, como el agrupamiento de k-medias, que utiliza la distancia euclidiana como función de similitud para medir la similitud entre puntos de datos. Un recuento grande en un elemento del vector de datos superaría la similitud en todos los demás elementos, lo que podría desechar toda la medición de similitud."
   ]
  },
  {
   "cell_type": "markdown",
   "id": "d19f035a",
   "metadata": {},
   "source": [
    "Una solución es contener la escala cuantificando el recuento. En otras palabras, agrupamos los recuentos en contenedores y nos deshacemos de los valores de recuento reales. La cuantificación asigna un número continuo a uno discreto. Podemos pensar en los números discretizados como una secuencia ordenada de contenedores que representan una medida de intensidad."
   ]
  },
  {
   "cell_type": "markdown",
   "id": "b01d92a8",
   "metadata": {},
   "source": [
    "Para cuantificar los datos, tenemos que decidir **qué tan ancho debe ser cada contenedor.** Las soluciones se dividen en dos categorías: **de ancho fijo o adaptativas (fixed-width or adaptive).** Daremos un ejemplo de cada tipo."
   ]
  },
  {
   "cell_type": "markdown",
   "id": "1112183f",
   "metadata": {},
   "source": [
    "# Fixed-width binning"
   ]
  },
  {
   "cell_type": "markdown",
   "id": "fc49a3b8",
   "metadata": {},
   "source": [
    "Con la agrupación de ancho fijo, cada bandeja contiene un rango numérico específico. Los rangos se pueden diseñar a medida o segmentar automáticamente, y se pueden escalar linealmente o exponencialmente. Por ejemplo, podemos agrupar a las personas en rangos de edad por década: 0 a 9 años en el contenedor **(bin)** 1, 10 a 19 años en el contenedor 2, etc. Para mapear desde el recuento hasta el contenedor, simplemente dividimos por el ancho del contenedor. y toma la parte entera."
   ]
  },
  {
   "cell_type": "markdown",
   "id": "aa73a9de",
   "metadata": {},
   "source": [
    "También es común ver rangos de edad diseñados a medida que se corresponden mejor con las etapas de la vida, como: 0-12 años,\n",
    "12-17 años,\n",
    "18-24 años,\n",
    "25 a 34 años,\n",
    "35 a 44 años,\n",
    "45 a 54 años,\n",
    "55 a 64 años,\n",
    "65 a 74 años,\n",
    "75 años o más."
   ]
  },
  {
   "cell_type": "markdown",
   "id": "3ec0989b",
   "metadata": {},
   "source": [
    "Cuando los números abarcan múltiples magnitudes, puede ser mejor agrupar por potencias de 10 (o potencias de cualquier constante): 0–9, 10–99, 100–999, 1000–9999, etc. Los anchos de intervalo crecen exponencialmente, yendo de O (10), a O (100), O (1000) y más allá. Para mapear desde el recuento al contenedor, tomamos el registro del recuento. El agrupamiento de ancho exponencial está muy relacionado con la **transformación logarítmica \"Log Transformation\"** El siguiente ejemplo ilustra varios de estos métodos de agrupamiento."
   ]
  },
  {
   "cell_type": "code",
   "execution_count": 8,
   "id": "b809283a",
   "metadata": {},
   "outputs": [],
   "source": [
    "import numpy as np"
   ]
  },
  {
   "cell_type": "code",
   "execution_count": 9,
   "id": "b91b694b",
   "metadata": {},
   "outputs": [
    {
     "data": {
      "text/plain": [
       "array([51, 21, 93, 39, 42, 19, 44, 33, 27, 68, 83, 79,  6, 90, 13, 13, 73,\n",
       "        5,  3, 40])"
      ]
     },
     "execution_count": 9,
     "metadata": {},
     "output_type": "execute_result"
    }
   ],
   "source": [
    "# Generate 20 random integers uniformly between 0 and 99\n",
    "small_counts = np.random.randint(0, 100, 20)\n",
    "small_counts"
   ]
  },
  {
   "cell_type": "code",
   "execution_count": 10,
   "id": "06322cf0",
   "metadata": {},
   "outputs": [
    {
     "data": {
      "text/plain": [
       "array([5, 2, 9, 3, 4, 1, 4, 3, 2, 6, 8, 7, 0, 9, 1, 1, 7, 0, 0, 4],\n",
       "      dtype=int32)"
      ]
     },
     "execution_count": 10,
     "metadata": {},
     "output_type": "execute_result"
    }
   ],
   "source": [
    "# Map to evenly spaced bins 0-9 by division\n",
    "np.floor_divide(small_counts, 10)"
   ]
  },
  {
   "cell_type": "code",
   "execution_count": 15,
   "id": "1074b271",
   "metadata": {},
   "outputs": [],
   "source": [
    "# An array of counts that span several magnitudes\n",
    "large_counts = [296, 8286, 64011, 80, 3, 725, 867, 2215, 7689, 11495,\n",
    "91897,44, 28, 7971, 926, 122, 22222]"
   ]
  },
  {
   "cell_type": "code",
   "execution_count": 16,
   "id": "36de23fb",
   "metadata": {},
   "outputs": [
    {
     "data": {
      "text/plain": [
       "array([2., 3., 4., 1., 0., 2., 2., 3., 3., 4., 4., 1., 1., 3., 2., 2., 4.])"
      ]
     },
     "execution_count": 16,
     "metadata": {},
     "output_type": "execute_result"
    }
   ],
   "source": [
    "# Map to exponential-width bins via the log function\n",
    "np.floor(np.log10(large_counts))"
   ]
  },
  {
   "cell_type": "markdown",
   "id": "8afff1c3",
   "metadata": {},
   "source": [
    "# Quantile binning"
   ]
  },
  {
   "cell_type": "markdown",
   "id": "f09e6d0a",
   "metadata": {},
   "source": [
    "El agrupamiento de ancho fijo es fácil de calcular. Pero si hay grandes lagunas en los recuentos, habrá muchos contenedores vacíos sin datos. Este problema se puede resolver colocando de forma adaptativa los contenedores en función de la distribución de los datos. Esto se puede hacer utilizando los cuantiles de la distribución.\n",
    "\n",
    "Los cuantiles son valores que dividen los datos en porciones iguales. Por ejemplo, la mediana divide los datos en mitades; la mitad de los puntos de datos son más pequeños y la mitad más grandes que la mediana. Los cuartiles dividen los datos en cuartos, los deciles en décimas, etc."
   ]
  },
  {
   "cell_type": "code",
   "execution_count": 17,
   "id": "5a1a7dd2",
   "metadata": {},
   "outputs": [],
   "source": [
    "deciles = biz_df['review_count'].quantile([.1, .2, .3, .4, .5, .6, .7, .8,.9])"
   ]
  },
  {
   "cell_type": "code",
   "execution_count": 18,
   "id": "45190cc4",
   "metadata": {},
   "outputs": [
    {
     "data": {
      "text/plain": [
       "0.1     3.0\n",
       "0.2     3.0\n",
       "0.3     4.0\n",
       "0.4     5.0\n",
       "0.5     6.0\n",
       "0.6     8.0\n",
       "0.7    13.0\n",
       "0.8    24.0\n",
       "0.9    56.0\n",
       "Name: review_count, dtype: float64"
      ]
     },
     "execution_count": 18,
     "metadata": {},
     "output_type": "execute_result"
    }
   ],
   "source": [
    "deciles"
   ]
  },
  {
   "cell_type": "code",
   "execution_count": 19,
   "id": "66d7da25",
   "metadata": {},
   "outputs": [
    {
     "data": {
      "text/plain": [
       "Text(0, 0.5, 'Occurrence')"
      ]
     },
     "execution_count": 19,
     "metadata": {},
     "output_type": "execute_result"
    },
    {
     "data": {
      "image/png": "[encoded data removed]",
      "text/plain": [
       "<Figure size 432x288 with 1 Axes>"
      ]
     },
     "metadata": {},
     "output_type": "display_data"
    }
   ],
   "source": [
    "#Visualize the deciles on the histogram\n",
    "sns.set_style('whitegrid')\n",
    "fig, ax = plt.subplots()\n",
    "biz_df['review_count'].hist(ax=ax, bins=100)\n",
    "for pos in deciles:\n",
    "    handle = plt.axvline(pos, color='r')\n",
    "ax.legend([handle], ['deciles'], fontsize=14)\n",
    "ax.set_yscale('log')\n",
    "ax.set_xscale('log')\n",
    "ax.tick_params(labelsize=14)\n",
    "ax.set_xlabel('Review Count', fontsize=14)\n",
    "ax.set_ylabel('Occurrence', fontsize=14)"
   ]
  },
  {
   "cell_type": "markdown",
   "id": "ef754ce1",
   "metadata": {},
   "source": [
    "Para calcular los cuantiles y mapear datos en contenedores de cuantiles, podemos usar la biblioteca Pandas."
   ]
  },
  {
   "cell_type": "code",
   "execution_count": 20,
   "id": "710d6bc1",
   "metadata": {},
   "outputs": [],
   "source": [
    "import pandas as pd"
   ]
  },
  {
   "cell_type": "code",
   "execution_count": 21,
   "id": "b98759a2",
   "metadata": {},
   "outputs": [
    {
     "data": {
      "text/plain": [
       "array([1, 2, 3, 0, 0, 1, 1, 2, 2, 3, 3, 0, 0, 2, 1, 0, 3], dtype=int64)"
      ]
     },
     "execution_count": 21,
     "metadata": {},
     "output_type": "execute_result"
    }
   ],
   "source": [
    "# Map the counts to quartiles\n",
    "pd.qcut(large_counts, 4, labels=False)"
   ]
  },
  {
   "cell_type": "code",
   "execution_count": 22,
   "id": "2cb145f0",
   "metadata": {},
   "outputs": [],
   "source": [
    "# Compute the quantiles themselves\n",
    "large_counts_series = pd.Series(large_counts)"
   ]
  },
  {
   "cell_type": "code",
   "execution_count": 23,
   "id": "da058cd0",
   "metadata": {},
   "outputs": [
    {
     "data": {
      "text/plain": [
       "0.25     122.0\n",
       "0.50     926.0\n",
       "0.75    8286.0\n",
       "dtype: float64"
      ]
     },
     "execution_count": 23,
     "metadata": {},
     "output_type": "execute_result"
    }
   ],
   "source": [
    "large_counts_series.quantile([0.25, 0.5, 0.75])"
   ]
  },
  {
   "cell_type": "code",
   "execution_count": null,
   "id": "51b991c6",
   "metadata": {},
   "outputs": [],
   "source": []
  }
 ],
 "metadata": {
  "kernelspec": {
   "display_name": "Python 3 (ipykernel)",
   "language": "python",
   "name": "python3"
  },
  "language_info": {
   "codemirror_mode": {
    "name": "ipython",
    "version": 3
   },
   "file_extension": ".py",
   "mimetype": "text/x-python",
   "name": "python",
   "nbconvert_exporter": "python",
   "pygments_lexer": "ipython3",
   "version": "3.9.7"
  }
 },
 "nbformat": 4,
 "nbformat_minor": 5
}
