{
 "cells": [
  {
   "cell_type": "markdown",
   "id": "8b6f603c",
   "metadata": {},
   "source": [
    "<center><h1>Inteligencia Artificial</header1></center>"
   ]
  },
  {
   "cell_type": "markdown",
   "id": "3eb1aaac",
   "metadata": {},
   "source": [
    "Presentado por: Anthony Mauricio Goyes Díaz  <br>\n",
    "Fecha: 27/07/2022"
   ]
  },
  {
   "cell_type": "markdown",
   "id": "1dec299b",
   "metadata": {
    "ExecuteTime": {
     "end_time": "2022-03-14T15:14:04.930713Z",
     "start_time": "2022-03-14T15:14:04.921682Z"
    }
   },
   "source": [
    "# Importación de librerias necesarias"
   ]
  },
  {
   "cell_type": "code",
   "execution_count": 21,
   "id": "6d1abf7a",
   "metadata": {
    "ExecuteTime": {
     "end_time": "2022-03-14T15:14:46.228059Z",
     "start_time": "2022-03-14T15:14:46.223108Z"
    }
   },
   "outputs": [],
   "source": [
    "#Para esta actividad se importarán las siguientes librerías:\n",
    "'''Se importa la librería de pandas para importar la colección de datos'''\n",
    "import pandas as pd\n",
    "'''Se importa la librería de LabelEndocer para transformar de categórico a numérico'''\n",
    "from sklearn.preprocessing import LabelEncoder\n",
    "'''Se importa la siguiente librería para entrenamiento y prueba de la colección de datos'''\n",
    "from sklearn.model_selection import train_test_split\n",
    "'''Se importa la librería SVM para trabajar con el modelo SVM \"(Support Vector Machine)\"'''\n",
    "from sklearn import svm\n",
    "'''Se importa la librería de métricas para evaluar el rendimiento del modelo'''\n",
    "from sklearn import metrics"
   ]
  },
  {
   "cell_type": "markdown",
   "id": "6a44b924",
   "metadata": {},
   "source": [
    "## Cargar el Dataset"
   ]
  },
  {
   "cell_type": "code",
   "execution_count": 3,
   "id": "3541e808",
   "metadata": {},
   "outputs": [
    {
     "data": {
      "text/html": [
       "<div>\n",
       "<style scoped>\n",
       "    .dataframe tbody tr th:only-of-type {\n",
       "        vertical-align: middle;\n",
       "    }\n",
       "\n",
       "    .dataframe tbody tr th {\n",
       "        vertical-align: top;\n",
       "    }\n",
       "\n",
       "    .dataframe thead th {\n",
       "        text-align: right;\n",
       "    }\n",
       "</style>\n",
       "<table border=\"1\" class=\"dataframe\">\n",
       "  <thead>\n",
       "    <tr style=\"text-align: right;\">\n",
       "      <th></th>\n",
       "      <th>class</th>\n",
       "      <th>cap-shape</th>\n",
       "      <th>cap-surface</th>\n",
       "      <th>cap-color</th>\n",
       "      <th>bruises</th>\n",
       "      <th>odor</th>\n",
       "      <th>gill-attachment</th>\n",
       "      <th>gill-spacing</th>\n",
       "      <th>gill-size</th>\n",
       "      <th>gill-color</th>\n",
       "      <th>...</th>\n",
       "      <th>stalk-surface-below-ring</th>\n",
       "      <th>stalk-color-above-ring</th>\n",
       "      <th>stalk-color-below-ring</th>\n",
       "      <th>veil-type</th>\n",
       "      <th>veil-color</th>\n",
       "      <th>ring-number</th>\n",
       "      <th>ring-type</th>\n",
       "      <th>spore-print-color</th>\n",
       "      <th>population</th>\n",
       "      <th>habitat</th>\n",
       "    </tr>\n",
       "  </thead>\n",
       "  <tbody>\n",
       "    <tr>\n",
       "      <th>0</th>\n",
       "      <td>p</td>\n",
       "      <td>x</td>\n",
       "      <td>s</td>\n",
       "      <td>n</td>\n",
       "      <td>t</td>\n",
       "      <td>p</td>\n",
       "      <td>f</td>\n",
       "      <td>c</td>\n",
       "      <td>n</td>\n",
       "      <td>k</td>\n",
       "      <td>...</td>\n",
       "      <td>s</td>\n",
       "      <td>w</td>\n",
       "      <td>w</td>\n",
       "      <td>p</td>\n",
       "      <td>w</td>\n",
       "      <td>o</td>\n",
       "      <td>p</td>\n",
       "      <td>k</td>\n",
       "      <td>s</td>\n",
       "      <td>u</td>\n",
       "    </tr>\n",
       "    <tr>\n",
       "      <th>1</th>\n",
       "      <td>e</td>\n",
       "      <td>x</td>\n",
       "      <td>s</td>\n",
       "      <td>y</td>\n",
       "      <td>t</td>\n",
       "      <td>a</td>\n",
       "      <td>f</td>\n",
       "      <td>c</td>\n",
       "      <td>b</td>\n",
       "      <td>k</td>\n",
       "      <td>...</td>\n",
       "      <td>s</td>\n",
       "      <td>w</td>\n",
       "      <td>w</td>\n",
       "      <td>p</td>\n",
       "      <td>w</td>\n",
       "      <td>o</td>\n",
       "      <td>p</td>\n",
       "      <td>n</td>\n",
       "      <td>n</td>\n",
       "      <td>g</td>\n",
       "    </tr>\n",
       "    <tr>\n",
       "      <th>2</th>\n",
       "      <td>e</td>\n",
       "      <td>b</td>\n",
       "      <td>s</td>\n",
       "      <td>w</td>\n",
       "      <td>t</td>\n",
       "      <td>l</td>\n",
       "      <td>f</td>\n",
       "      <td>c</td>\n",
       "      <td>b</td>\n",
       "      <td>n</td>\n",
       "      <td>...</td>\n",
       "      <td>s</td>\n",
       "      <td>w</td>\n",
       "      <td>w</td>\n",
       "      <td>p</td>\n",
       "      <td>w</td>\n",
       "      <td>o</td>\n",
       "      <td>p</td>\n",
       "      <td>n</td>\n",
       "      <td>n</td>\n",
       "      <td>m</td>\n",
       "    </tr>\n",
       "    <tr>\n",
       "      <th>3</th>\n",
       "      <td>p</td>\n",
       "      <td>x</td>\n",
       "      <td>y</td>\n",
       "      <td>w</td>\n",
       "      <td>t</td>\n",
       "      <td>p</td>\n",
       "      <td>f</td>\n",
       "      <td>c</td>\n",
       "      <td>n</td>\n",
       "      <td>n</td>\n",
       "      <td>...</td>\n",
       "      <td>s</td>\n",
       "      <td>w</td>\n",
       "      <td>w</td>\n",
       "      <td>p</td>\n",
       "      <td>w</td>\n",
       "      <td>o</td>\n",
       "      <td>p</td>\n",
       "      <td>k</td>\n",
       "      <td>s</td>\n",
       "      <td>u</td>\n",
       "    </tr>\n",
       "    <tr>\n",
       "      <th>4</th>\n",
       "      <td>e</td>\n",
       "      <td>x</td>\n",
       "      <td>s</td>\n",
       "      <td>g</td>\n",
       "      <td>f</td>\n",
       "      <td>n</td>\n",
       "      <td>f</td>\n",
       "      <td>w</td>\n",
       "      <td>b</td>\n",
       "      <td>k</td>\n",
       "      <td>...</td>\n",
       "      <td>s</td>\n",
       "      <td>w</td>\n",
       "      <td>w</td>\n",
       "      <td>p</td>\n",
       "      <td>w</td>\n",
       "      <td>o</td>\n",
       "      <td>e</td>\n",
       "      <td>n</td>\n",
       "      <td>a</td>\n",
       "      <td>g</td>\n",
       "    </tr>\n",
       "  </tbody>\n",
       "</table>\n",
       "<p>5 rows × 23 columns</p>\n",
       "</div>"
      ],
      "text/plain": [
       "  class cap-shape cap-surface cap-color bruises odor gill-attachment  \\\n",
       "0     p         x           s         n       t    p               f   \n",
       "1     e         x           s         y       t    a               f   \n",
       "2     e         b           s         w       t    l               f   \n",
       "3     p         x           y         w       t    p               f   \n",
       "4     e         x           s         g       f    n               f   \n",
       "\n",
       "  gill-spacing gill-size gill-color  ... stalk-surface-below-ring  \\\n",
       "0            c         n          k  ...                        s   \n",
       "1            c         b          k  ...                        s   \n",
       "2            c         b          n  ...                        s   \n",
       "3            c         n          n  ...                        s   \n",
       "4            w         b          k  ...                        s   \n",
       "\n",
       "  stalk-color-above-ring stalk-color-below-ring veil-type veil-color  \\\n",
       "0                      w                      w         p          w   \n",
       "1                      w                      w         p          w   \n",
       "2                      w                      w         p          w   \n",
       "3                      w                      w         p          w   \n",
       "4                      w                      w         p          w   \n",
       "\n",
       "  ring-number ring-type spore-print-color population habitat  \n",
       "0           o         p                 k          s       u  \n",
       "1           o         p                 n          n       g  \n",
       "2           o         p                 n          n       m  \n",
       "3           o         p                 k          s       u  \n",
       "4           o         e                 n          a       g  \n",
       "\n",
       "[5 rows x 23 columns]"
      ]
     },
     "execution_count": 3,
     "metadata": {},
     "output_type": "execute_result"
    }
   ],
   "source": [
    "#Código para cargar el Dataset\n",
    "'''Se carga la colección de datos mediante un archivo separado por comas \"(csv)\"'''\n",
    "df = pd.read_csv(\"mushrooms.csv\", sep=\",\")\n",
    "'''Se visualiza los registros de la colección de datos'''\n",
    "df.head()"
   ]
  },
  {
   "cell_type": "markdown",
   "id": "93c30410",
   "metadata": {},
   "source": [
    "## Descripción de la fuente del Dataset"
   ]
  },
  {
   "cell_type": "code",
   "execution_count": 4,
   "id": "e3463f3a",
   "metadata": {},
   "outputs": [
    {
     "data": {
      "text/html": [
       "<div>\n",
       "<style scoped>\n",
       "    .dataframe tbody tr th:only-of-type {\n",
       "        vertical-align: middle;\n",
       "    }\n",
       "\n",
       "    .dataframe tbody tr th {\n",
       "        vertical-align: top;\n",
       "    }\n",
       "\n",
       "    .dataframe thead th {\n",
       "        text-align: right;\n",
       "    }\n",
       "</style>\n",
       "<table border=\"1\" class=\"dataframe\">\n",
       "  <thead>\n",
       "    <tr style=\"text-align: right;\">\n",
       "      <th></th>\n",
       "      <th>class</th>\n",
       "      <th>cap-shape</th>\n",
       "      <th>cap-surface</th>\n",
       "      <th>cap-color</th>\n",
       "      <th>bruises</th>\n",
       "      <th>odor</th>\n",
       "      <th>gill-attachment</th>\n",
       "      <th>gill-spacing</th>\n",
       "      <th>gill-size</th>\n",
       "      <th>gill-color</th>\n",
       "      <th>...</th>\n",
       "      <th>stalk-surface-below-ring</th>\n",
       "      <th>stalk-color-above-ring</th>\n",
       "      <th>stalk-color-below-ring</th>\n",
       "      <th>veil-type</th>\n",
       "      <th>veil-color</th>\n",
       "      <th>ring-number</th>\n",
       "      <th>ring-type</th>\n",
       "      <th>spore-print-color</th>\n",
       "      <th>population</th>\n",
       "      <th>habitat</th>\n",
       "    </tr>\n",
       "  </thead>\n",
       "  <tbody>\n",
       "    <tr>\n",
       "      <th>count</th>\n",
       "      <td>8124</td>\n",
       "      <td>8124</td>\n",
       "      <td>8124</td>\n",
       "      <td>8124</td>\n",
       "      <td>8124</td>\n",
       "      <td>8124</td>\n",
       "      <td>8124</td>\n",
       "      <td>8124</td>\n",
       "      <td>8124</td>\n",
       "      <td>8124</td>\n",
       "      <td>...</td>\n",
       "      <td>8124</td>\n",
       "      <td>8124</td>\n",
       "      <td>8124</td>\n",
       "      <td>8124</td>\n",
       "      <td>8124</td>\n",
       "      <td>8124</td>\n",
       "      <td>8124</td>\n",
       "      <td>8124</td>\n",
       "      <td>8124</td>\n",
       "      <td>8124</td>\n",
       "    </tr>\n",
       "    <tr>\n",
       "      <th>unique</th>\n",
       "      <td>2</td>\n",
       "      <td>6</td>\n",
       "      <td>4</td>\n",
       "      <td>10</td>\n",
       "      <td>2</td>\n",
       "      <td>9</td>\n",
       "      <td>2</td>\n",
       "      <td>2</td>\n",
       "      <td>2</td>\n",
       "      <td>12</td>\n",
       "      <td>...</td>\n",
       "      <td>4</td>\n",
       "      <td>9</td>\n",
       "      <td>9</td>\n",
       "      <td>1</td>\n",
       "      <td>4</td>\n",
       "      <td>3</td>\n",
       "      <td>5</td>\n",
       "      <td>9</td>\n",
       "      <td>6</td>\n",
       "      <td>7</td>\n",
       "    </tr>\n",
       "    <tr>\n",
       "      <th>top</th>\n",
       "      <td>e</td>\n",
       "      <td>x</td>\n",
       "      <td>y</td>\n",
       "      <td>n</td>\n",
       "      <td>f</td>\n",
       "      <td>n</td>\n",
       "      <td>f</td>\n",
       "      <td>c</td>\n",
       "      <td>b</td>\n",
       "      <td>b</td>\n",
       "      <td>...</td>\n",
       "      <td>s</td>\n",
       "      <td>w</td>\n",
       "      <td>w</td>\n",
       "      <td>p</td>\n",
       "      <td>w</td>\n",
       "      <td>o</td>\n",
       "      <td>p</td>\n",
       "      <td>w</td>\n",
       "      <td>v</td>\n",
       "      <td>d</td>\n",
       "    </tr>\n",
       "    <tr>\n",
       "      <th>freq</th>\n",
       "      <td>4208</td>\n",
       "      <td>3656</td>\n",
       "      <td>3244</td>\n",
       "      <td>2284</td>\n",
       "      <td>4748</td>\n",
       "      <td>3528</td>\n",
       "      <td>7914</td>\n",
       "      <td>6812</td>\n",
       "      <td>5612</td>\n",
       "      <td>1728</td>\n",
       "      <td>...</td>\n",
       "      <td>4936</td>\n",
       "      <td>4464</td>\n",
       "      <td>4384</td>\n",
       "      <td>8124</td>\n",
       "      <td>7924</td>\n",
       "      <td>7488</td>\n",
       "      <td>3968</td>\n",
       "      <td>2388</td>\n",
       "      <td>4040</td>\n",
       "      <td>3148</td>\n",
       "    </tr>\n",
       "  </tbody>\n",
       "</table>\n",
       "<p>4 rows × 23 columns</p>\n",
       "</div>"
      ],
      "text/plain": [
       "       class cap-shape cap-surface cap-color bruises  odor gill-attachment  \\\n",
       "count   8124      8124        8124      8124    8124  8124            8124   \n",
       "unique     2         6           4        10       2     9               2   \n",
       "top        e         x           y         n       f     n               f   \n",
       "freq    4208      3656        3244      2284    4748  3528            7914   \n",
       "\n",
       "       gill-spacing gill-size gill-color  ... stalk-surface-below-ring  \\\n",
       "count          8124      8124       8124  ...                     8124   \n",
       "unique            2         2         12  ...                        4   \n",
       "top               c         b          b  ...                        s   \n",
       "freq           6812      5612       1728  ...                     4936   \n",
       "\n",
       "       stalk-color-above-ring stalk-color-below-ring veil-type veil-color  \\\n",
       "count                    8124                   8124      8124       8124   \n",
       "unique                      9                      9         1          4   \n",
       "top                         w                      w         p          w   \n",
       "freq                     4464                   4384      8124       7924   \n",
       "\n",
       "       ring-number ring-type spore-print-color population habitat  \n",
       "count         8124      8124              8124       8124    8124  \n",
       "unique           3         5                 9          6       7  \n",
       "top              o         p                 w          v       d  \n",
       "freq          7488      3968              2388       4040    3148  \n",
       "\n",
       "[4 rows x 23 columns]"
      ]
     },
     "execution_count": 4,
     "metadata": {},
     "output_type": "execute_result"
    }
   ],
   "source": [
    "'''Se observa una descripción estadística de los registros de la colección de datos'''\n",
    "df.describe()"
   ]
  },
  {
   "cell_type": "markdown",
   "id": "f35637ca",
   "metadata": {},
   "source": [
    "Este conjunto de datos contiene un total de 8.124 registros e incluye descripciones de muestras hipotéticas correspondientes a 23 especies de setas con agallas de la familia Agaricus y Lepiota extraídas de The Audubon Society Field Guide to North American Mushrooms (1981). Cada especie se identifica como definitivamente comestible, definitivamente venenosa, o de comestibilidad desconocida y no recomendada. Esta última clase se combinó con la venenosa.\n",
    "Colección de datos extraída de: https://www.kaggle.com/datasets/uciml/mushroom-classification\n",
    "\n",
    "## Características de entrada || Variables independientes\n",
    "**cap-shape**: Categórica. Forma del casquete y puede ser acampanado=b,cónico=c,convexo=x,plano=f,nudoso=k,hundido=s<br>\n",
    "**cap-surface**: Categórica. Superficie del sombrero y puede ser fibrosa=f,acanalada=g,escamosa=y,lisa=s<br>\n",
    "**cap-color**: Categórica. Color del capuchón y puede ser marrón=n,buff=b,canela=c,gris=g,verde=r, rosa=p,púrpura=u,rojo=e,blanco=w,amarillo=y<br>\n",
    "**bruises?**: Categórica. Moretones puede ser Verdadero(si)=t y Falso(no)=f<br>\n",
    "**odor**: Categórica. Olor y puede ser almendra=a,anís=l,creosota=c,a pescado=y,fétido=f, a moho=m,ninguno=n,acre=p,picante=s<br>\n",
    "**gill-attachment**: Categórica. Fijación de la agalla y puede ser adjunta=a,descendente=d,libre=f,dentada=n<br>\n",
    "**gill-spacing**: Categórica. Espaciado de las agallas y puede ser cerca=c,amontonado=w,distante=d<br>\n",
    "**gill-size**: Categórica. Tamaño de las branquias y puede ser ancho=b,estrecho=n<br>\n",
    "**gill-color**: Categórica. Color de las agallas y puede ser negro=k,marrón=n,buff=b,chocolate=h,gris=g, verde=r,naranja=o,rosa=p,púrpura=u,rojo=e, blanco=w,amarillo=y<br>\n",
    "**stalk-shape**: Categórica. Forma de los tallos y puede ser ampliando=e,estrechando=t<br>\n",
    "**stalk-root**: Categórica. Tallo-raíz y puede ser bulboso=b,club=c,copa=u,igual=e, rizomorfo=z,enraizado=r,ausente=?<br>\n",
    "**stalk-surface-above-ring**: Categórica. Tallo-superficie-sobre-anillo y puede ser fibroso=f,escamoso=y,sedoso=k,liso=s<br>\n",
    "**stalk-surface-below-ring**: Categórica. Tallo-superficie-debajo-anillo y puede ser fibroso=f,escamoso=y,sedoso=k,liso=s<br>\n",
    "**stalk-color-above-ring**: Categórica. Color del tallo por encima del anillo y puede ser marrón=n,buff=b,canela=c,gris=g,naranja=o, rosa=p,rojo=e,blanco=w,amarillo=y<br>\n",
    "**stalk-color-below-ring**: Categórica. Color del tallo-bajo-anillo y puede ser marrón=n,buff=b,canela=c,gris=g,naranja=o, rosa=p,rojo=e,blanco=w,amarillo=y<br>\n",
    "**veil-type**: Categórica. Tipo de velo y puede ser parcial=p,universal=u<br>\n",
    "**veil-color**: Categórica. Color del velo y puede ser marrón=n,naranja=o,blanco=w,amarillo=y<br>\n",
    "**ring-number**: Categórica. Número de anillo y puede ser ninguno=n,uno=o,dos=t<br>\n",
    "**ring-type**: Categórica. Tipo de anillo y puede ser cobwebby=c,evanescente=e,acampanado=f,grande=l, ninguno=n,colgante=p,revestimiento=s,zona=z<br>\n",
    "**spore-print-color**: Categórica. Color de la huella de la espora y puede ser <br>negro=k,marrón=n,buff=b,chocolate=h,verde=r,naranja=o,púrpura=u,blanco=w,amarillo=y<br>\n",
    "**population**: Categórica. Población y puede ser abundante=a,agrupada=c,numerosa=n, dispersa=s,varias=v,solitaria=y<br>\n",
    "**habitat**: Categórica. Hábitat y puede ser hierbas=g,hojas=l,prados=m,caminos=p, urbano=u,residuos=w,bosques=d<br>\n",
    "## Variable Objetivo || Variable dependiente\n",
    "**class**: Categórica. Describe a la clase de la seta si es comestible=e o venenosa=p"
   ]
  },
  {
   "cell_type": "markdown",
   "id": "7f868eab",
   "metadata": {},
   "source": [
    "## Explique el problema a resolver. \n",
    "La colección de datos tiene la finalidad de dar a conocer las características puntuales de las setas para conocer si son comestibles o venenosas, considerándose esta como la variable objetivo (**class**) "
   ]
  },
  {
   "cell_type": "markdown",
   "id": "a0b719c1",
   "metadata": {},
   "source": [
    "## Caracterización del Dataset\n",
    "\n",
    "Realice una descripción de los datos con:\n",
    "\n",
    ">- Número de instancias en total.\n",
    ">- Número de atributos de entrada, su significado y tipo.\n",
    ">- Estadísticas de la variable objetivo.\n",
    ">- Estadísticas los atributos en relación con la variable objetivo.\n"
   ]
  },
  {
   "cell_type": "markdown",
   "id": "0654756d",
   "metadata": {},
   "source": [
    "## Número total de instancias"
   ]
  },
  {
   "cell_type": "code",
   "execution_count": 5,
   "id": "2f0ed5d2",
   "metadata": {},
   "outputs": [
    {
     "name": "stdout",
     "output_type": "stream",
     "text": [
      "El total de instanacias son: 8124.0\n"
     ]
    }
   ],
   "source": [
    "#Código que responde a la descripción anterior\n",
    "# Se contabiliza el total de instancias de la colección de datos\n",
    "instancias =df.count().mean()\n",
    "# Se imprime el total de instancias calculada\n",
    "print(f\"El total de instanacias son: \"+str(instancias)) "
   ]
  },
  {
   "cell_type": "markdown",
   "id": "ea2e805e",
   "metadata": {},
   "source": [
    "## Número de atributos de entrada, su significado y tipo"
   ]
  },
  {
   "cell_type": "markdown",
   "id": "badef8e5",
   "metadata": {},
   "source": [
    "**cap-shape**: Categórica. Forma del casquete y puede ser acampanado=b,cónico=c,convexo=x,plano=f,nudoso=k,hundido=s<br>\n",
    "**cap-surface**: Categórica. Superficie del sombrero y puede ser fibrosa=f,acanalada=g,escamosa=y,lisa=s<br>\n",
    "**cap-color**: Categórica. Color del capuchón y puede ser marrón=n,buff=b,canela=c,gris=g,verde=r, rosa=p,púrpura=u,rojo=e,blanco=w,amarillo=y<br>\n",
    "**bruises?**: Categórica. Moretones puede ser Verdadero(si)=t y Falso(no)=f<br>\n",
    "**odor**: Categórica. Olor y puede ser almendra=a,anís=l,creosota=c,a pescado=y,fétido=f, a moho=m,ninguno=n,acre=p,picante=s<br>\n",
    "**gill-attachment**: Categórica. Fijación de la agalla y puede ser adjunta=a,descendente=d,libre=f,dentada=n<br>\n",
    "**gill-spacing**: Categórica. Espaciado de las agallas y puede ser cerca=c,amontonado=w,distante=d<br>\n",
    "**gill-size**: Categórica. Tamaño de las branquias y puede ser ancho=b,estrecho=n<br>\n",
    "**gill-color**: Categórica. Color de las agallas y puede ser negro=k,marrón=n,buff=b,chocolate=h,gris=g, verde=r,naranja=o,rosa=p,púrpura=u,rojo=e, blanco=w,amarillo=y<br>\n",
    "**stalk-shape**: Categórica. Forma de los tallos y puede ser ampliando=e,estrechando=t<br>\n",
    "**stalk-root**: Categórica. Tallo-raíz y puede ser bulboso=b,club=c,copa=u,igual=e, rizomorfo=z,enraizado=r,ausente=?<br>\n",
    "**stalk-surface-above-ring**: Categórica. Tallo-superficie-sobre-anillo y puede ser fibroso=f,escamoso=y,sedoso=k,liso=s<br>\n",
    "**stalk-surface-below-ring**: Categórica. Tallo-superficie-debajo-anillo y puede ser fibroso=f,escamoso=y,sedoso=k,liso=s<br>\n",
    "**stalk-color-above-ring**: Categórica. Color del tallo por encima del anillo y puede ser marrón=n,buff=b,canela=c,gris=g,naranja=o, rosa=p,rojo=e,blanco=w,amarillo=y<br>\n",
    "**stalk-color-below-ring**: Categórica. Color del tallo-bajo-anillo y puede ser marrón=n,buff=b,canela=c,gris=g,naranja=o, rosa=p,rojo=e,blanco=w,amarillo=y<br>\n",
    "**veil-type**: Categórica. Tipo de velo y puede ser parcial=p,universal=u<br>\n",
    "**veil-color**: Categórica. Color del velo y puede ser marrón=n,naranja=o,blanco=w,amarillo=y<br>\n",
    "**ring-number**: Categórica. Número de anillo y puede ser ninguno=n,uno=o,dos=t<br>\n",
    "**ring-type**: Categórica. Tipo de anillo y puede ser cobwebby=c,evanescente=e,acampanado=f,grande=l, ninguno=n,colgante=p,revestimiento=s,zona=z<br>\n",
    "**spore-print-color**: Categórica. Color de la huella de la espora y puede ser <br>negro=k,marrón=n,buff=b,chocolate=h,verde=r,naranja=o,púrpura=u,blanco=w,amarillo=y<br>\n",
    "**population**: Categórica. Población y puede ser abundante=a,agrupada=c,numerosa=n, dispersa=s,varias=v,solitaria=y<br>\n",
    "**habitat**: Categórica. Hábitat y puede ser hierbas=g,hojas=l,prados=m,caminos=p, urbano=u,residuos=w,bosques=d<br>"
   ]
  },
  {
   "cell_type": "code",
   "execution_count": 6,
   "id": "252667da",
   "metadata": {},
   "outputs": [
    {
     "name": "stdout",
     "output_type": "stream",
     "text": [
      "<class 'pandas.core.frame.DataFrame'>\n",
      "RangeIndex: 8124 entries, 0 to 8123\n",
      "Data columns (total 22 columns):\n",
      " #   Column                    Non-Null Count  Dtype \n",
      "---  ------                    --------------  ----- \n",
      " 0   cap-shape                 8124 non-null   object\n",
      " 1   cap-surface               8124 non-null   object\n",
      " 2   cap-color                 8124 non-null   object\n",
      " 3   bruises                   8124 non-null   object\n",
      " 4   odor                      8124 non-null   object\n",
      " 5   gill-attachment           8124 non-null   object\n",
      " 6   gill-spacing              8124 non-null   object\n",
      " 7   gill-size                 8124 non-null   object\n",
      " 8   gill-color                8124 non-null   object\n",
      " 9   stalk-shape               8124 non-null   object\n",
      " 10  stalk-root                8124 non-null   object\n",
      " 11  stalk-surface-above-ring  8124 non-null   object\n",
      " 12  stalk-surface-below-ring  8124 non-null   object\n",
      " 13  stalk-color-above-ring    8124 non-null   object\n",
      " 14  stalk-color-below-ring    8124 non-null   object\n",
      " 15  veil-type                 8124 non-null   object\n",
      " 16  veil-color                8124 non-null   object\n",
      " 17  ring-number               8124 non-null   object\n",
      " 18  ring-type                 8124 non-null   object\n",
      " 19  spore-print-color         8124 non-null   object\n",
      " 20  population                8124 non-null   object\n",
      " 21  habitat                   8124 non-null   object\n",
      "dtypes: object(22)\n",
      "memory usage: 1.4+ MB\n"
     ]
    }
   ],
   "source": [
    "df.drop('class', axis=1).info()"
   ]
  },
  {
   "cell_type": "markdown",
   "id": "e33e88d4",
   "metadata": {},
   "source": [
    "## Estadísticas de la variable objetivo."
   ]
  },
  {
   "cell_type": "code",
   "execution_count": 7,
   "id": "e424152c",
   "metadata": {},
   "outputs": [
    {
     "data": {
      "text/plain": [
       "<AxesSubplot:>"
      ]
     },
     "execution_count": 7,
     "metadata": {},
     "output_type": "execute_result"
    },
    {
     "data": {
      "image/png": "[encoded data removed]",
      "text/plain": [
       "<Figure size 432x288 with 1 Axes>"
      ]
     },
     "metadata": {
      "needs_background": "light"
     },
     "output_type": "display_data"
    }
   ],
   "source": [
    "df['class'].hist()"
   ]
  },
  {
   "cell_type": "markdown",
   "id": "a7ab5e48",
   "metadata": {},
   "source": [
    "Se puede observar que mediante el histograma de la variable objetivo (clase) no se tiene una forma de campana lo que afirma que no debe aplicarse regrsión lineal sino clasifiacación, como en este caso, clasificación binaria porque se pretende conocer si la seta fue clasificada como comestible o venenosa. Además, la gráfica permite conocer que se tiene un equilibrio estando entre 3800 registros a 4100 registros"
   ]
  },
  {
   "cell_type": "markdown",
   "id": "bfd2eb7b",
   "metadata": {},
   "source": [
    "## Preprocesamiento del dataset. Transformaciones previas necesarias para la modelación"
   ]
  },
  {
   "cell_type": "code",
   "execution_count": 8,
   "id": "d3608ba4",
   "metadata": {},
   "outputs": [
    {
     "data": {
      "text/plain": [
       "class                       0\n",
       "cap-shape                   0\n",
       "cap-surface                 0\n",
       "cap-color                   0\n",
       "bruises                     0\n",
       "odor                        0\n",
       "gill-attachment             0\n",
       "gill-spacing                0\n",
       "gill-size                   0\n",
       "gill-color                  0\n",
       "stalk-shape                 0\n",
       "stalk-root                  0\n",
       "stalk-surface-above-ring    0\n",
       "stalk-surface-below-ring    0\n",
       "stalk-color-above-ring      0\n",
       "stalk-color-below-ring      0\n",
       "veil-type                   0\n",
       "veil-color                  0\n",
       "ring-number                 0\n",
       "ring-type                   0\n",
       "spore-print-color           0\n",
       "population                  0\n",
       "habitat                     0\n",
       "dtype: int64"
      ]
     },
     "execution_count": 8,
     "metadata": {},
     "output_type": "execute_result"
    }
   ],
   "source": [
    "'''Se contabiliza el número total de instancias con datos nulos'''\n",
    "df.isnull().sum()"
   ]
  },
  {
   "cell_type": "code",
   "execution_count": 9,
   "id": "ed066fba",
   "metadata": {},
   "outputs": [
    {
     "data": {
      "text/plain": [
       "class                       0\n",
       "cap-shape                   0\n",
       "cap-surface                 0\n",
       "cap-color                   0\n",
       "bruises                     0\n",
       "odor                        0\n",
       "gill-attachment             0\n",
       "gill-spacing                0\n",
       "gill-size                   0\n",
       "gill-color                  0\n",
       "stalk-shape                 0\n",
       "stalk-root                  0\n",
       "stalk-surface-above-ring    0\n",
       "stalk-surface-below-ring    0\n",
       "stalk-color-above-ring      0\n",
       "stalk-color-below-ring      0\n",
       "veil-type                   0\n",
       "veil-color                  0\n",
       "ring-number                 0\n",
       "ring-type                   0\n",
       "spore-print-color           0\n",
       "population                  0\n",
       "habitat                     0\n",
       "dtype: int64"
      ]
     },
     "execution_count": 9,
     "metadata": {},
     "output_type": "execute_result"
    }
   ],
   "source": [
    "'''Se contabiliza el número total de instancias con datos vacíos'''\n",
    "df.isna().sum()"
   ]
  },
  {
   "cell_type": "code",
   "execution_count": 10,
   "id": "fad28c29",
   "metadata": {},
   "outputs": [
    {
     "data": {
      "text/plain": [
       "class                       category\n",
       "cap-shape                   category\n",
       "cap-surface                 category\n",
       "cap-color                   category\n",
       "bruises                     category\n",
       "odor                        category\n",
       "gill-attachment             category\n",
       "gill-spacing                category\n",
       "gill-size                   category\n",
       "gill-color                  category\n",
       "stalk-shape                 category\n",
       "stalk-root                  category\n",
       "stalk-surface-above-ring    category\n",
       "stalk-surface-below-ring    category\n",
       "stalk-color-above-ring      category\n",
       "stalk-color-below-ring      category\n",
       "veil-type                   category\n",
       "veil-color                  category\n",
       "ring-number                 category\n",
       "ring-type                   category\n",
       "spore-print-color           category\n",
       "population                  category\n",
       "habitat                     category\n",
       "dtype: object"
      ]
     },
     "execution_count": 10,
     "metadata": {},
     "output_type": "execute_result"
    }
   ],
   "source": [
    "'''Se convierte de tipo objeto a categórico'''\n",
    "df = df.astype('category')\n",
    "'''Se visualiza el cambio en el tipo de datos de las características'''\n",
    "df.dtypes"
   ]
  },
  {
   "cell_type": "code",
   "execution_count": 15,
   "id": "2b2acbc4",
   "metadata": {},
   "outputs": [
    {
     "data": {
      "text/html": [
       "<div>\n",
       "<style scoped>\n",
       "    .dataframe tbody tr th:only-of-type {\n",
       "        vertical-align: middle;\n",
       "    }\n",
       "\n",
       "    .dataframe tbody tr th {\n",
       "        vertical-align: top;\n",
       "    }\n",
       "\n",
       "    .dataframe thead th {\n",
       "        text-align: right;\n",
       "    }\n",
       "</style>\n",
       "<table border=\"1\" class=\"dataframe\">\n",
       "  <thead>\n",
       "    <tr style=\"text-align: right;\">\n",
       "      <th></th>\n",
       "      <th>class</th>\n",
       "      <th>cap-shape</th>\n",
       "      <th>cap-surface</th>\n",
       "      <th>cap-color</th>\n",
       "      <th>bruises</th>\n",
       "      <th>odor</th>\n",
       "      <th>gill-attachment</th>\n",
       "      <th>gill-spacing</th>\n",
       "      <th>gill-size</th>\n",
       "      <th>gill-color</th>\n",
       "      <th>...</th>\n",
       "      <th>stalk-surface-below-ring</th>\n",
       "      <th>stalk-color-above-ring</th>\n",
       "      <th>stalk-color-below-ring</th>\n",
       "      <th>veil-type</th>\n",
       "      <th>veil-color</th>\n",
       "      <th>ring-number</th>\n",
       "      <th>ring-type</th>\n",
       "      <th>spore-print-color</th>\n",
       "      <th>population</th>\n",
       "      <th>habitat</th>\n",
       "    </tr>\n",
       "  </thead>\n",
       "  <tbody>\n",
       "    <tr>\n",
       "      <th>0</th>\n",
       "      <td>1</td>\n",
       "      <td>5</td>\n",
       "      <td>2</td>\n",
       "      <td>4</td>\n",
       "      <td>1</td>\n",
       "      <td>6</td>\n",
       "      <td>1</td>\n",
       "      <td>0</td>\n",
       "      <td>1</td>\n",
       "      <td>4</td>\n",
       "      <td>...</td>\n",
       "      <td>2</td>\n",
       "      <td>7</td>\n",
       "      <td>7</td>\n",
       "      <td>0</td>\n",
       "      <td>2</td>\n",
       "      <td>1</td>\n",
       "      <td>4</td>\n",
       "      <td>2</td>\n",
       "      <td>3</td>\n",
       "      <td>5</td>\n",
       "    </tr>\n",
       "    <tr>\n",
       "      <th>1</th>\n",
       "      <td>0</td>\n",
       "      <td>5</td>\n",
       "      <td>2</td>\n",
       "      <td>9</td>\n",
       "      <td>1</td>\n",
       "      <td>0</td>\n",
       "      <td>1</td>\n",
       "      <td>0</td>\n",
       "      <td>0</td>\n",
       "      <td>4</td>\n",
       "      <td>...</td>\n",
       "      <td>2</td>\n",
       "      <td>7</td>\n",
       "      <td>7</td>\n",
       "      <td>0</td>\n",
       "      <td>2</td>\n",
       "      <td>1</td>\n",
       "      <td>4</td>\n",
       "      <td>3</td>\n",
       "      <td>2</td>\n",
       "      <td>1</td>\n",
       "    </tr>\n",
       "    <tr>\n",
       "      <th>2</th>\n",
       "      <td>0</td>\n",
       "      <td>0</td>\n",
       "      <td>2</td>\n",
       "      <td>8</td>\n",
       "      <td>1</td>\n",
       "      <td>3</td>\n",
       "      <td>1</td>\n",
       "      <td>0</td>\n",
       "      <td>0</td>\n",
       "      <td>5</td>\n",
       "      <td>...</td>\n",
       "      <td>2</td>\n",
       "      <td>7</td>\n",
       "      <td>7</td>\n",
       "      <td>0</td>\n",
       "      <td>2</td>\n",
       "      <td>1</td>\n",
       "      <td>4</td>\n",
       "      <td>3</td>\n",
       "      <td>2</td>\n",
       "      <td>3</td>\n",
       "    </tr>\n",
       "    <tr>\n",
       "      <th>3</th>\n",
       "      <td>1</td>\n",
       "      <td>5</td>\n",
       "      <td>3</td>\n",
       "      <td>8</td>\n",
       "      <td>1</td>\n",
       "      <td>6</td>\n",
       "      <td>1</td>\n",
       "      <td>0</td>\n",
       "      <td>1</td>\n",
       "      <td>5</td>\n",
       "      <td>...</td>\n",
       "      <td>2</td>\n",
       "      <td>7</td>\n",
       "      <td>7</td>\n",
       "      <td>0</td>\n",
       "      <td>2</td>\n",
       "      <td>1</td>\n",
       "      <td>4</td>\n",
       "      <td>2</td>\n",
       "      <td>3</td>\n",
       "      <td>5</td>\n",
       "    </tr>\n",
       "    <tr>\n",
       "      <th>4</th>\n",
       "      <td>0</td>\n",
       "      <td>5</td>\n",
       "      <td>2</td>\n",
       "      <td>3</td>\n",
       "      <td>0</td>\n",
       "      <td>5</td>\n",
       "      <td>1</td>\n",
       "      <td>1</td>\n",
       "      <td>0</td>\n",
       "      <td>4</td>\n",
       "      <td>...</td>\n",
       "      <td>2</td>\n",
       "      <td>7</td>\n",
       "      <td>7</td>\n",
       "      <td>0</td>\n",
       "      <td>2</td>\n",
       "      <td>1</td>\n",
       "      <td>0</td>\n",
       "      <td>3</td>\n",
       "      <td>0</td>\n",
       "      <td>1</td>\n",
       "    </tr>\n",
       "  </tbody>\n",
       "</table>\n",
       "<p>5 rows × 23 columns</p>\n",
       "</div>"
      ],
      "text/plain": [
       "   class  cap-shape  cap-surface  cap-color  bruises  odor  gill-attachment  \\\n",
       "0      1          5            2          4        1     6                1   \n",
       "1      0          5            2          9        1     0                1   \n",
       "2      0          0            2          8        1     3                1   \n",
       "3      1          5            3          8        1     6                1   \n",
       "4      0          5            2          3        0     5                1   \n",
       "\n",
       "   gill-spacing  gill-size  gill-color  ...  stalk-surface-below-ring  \\\n",
       "0             0          1           4  ...                         2   \n",
       "1             0          0           4  ...                         2   \n",
       "2             0          0           5  ...                         2   \n",
       "3             0          1           5  ...                         2   \n",
       "4             1          0           4  ...                         2   \n",
       "\n",
       "   stalk-color-above-ring  stalk-color-below-ring  veil-type  veil-color  \\\n",
       "0                       7                       7          0           2   \n",
       "1                       7                       7          0           2   \n",
       "2                       7                       7          0           2   \n",
       "3                       7                       7          0           2   \n",
       "4                       7                       7          0           2   \n",
       "\n",
       "   ring-number  ring-type  spore-print-color  population  habitat  \n",
       "0            1          4                  2           3        5  \n",
       "1            1          4                  3           2        1  \n",
       "2            1          4                  3           2        3  \n",
       "3            1          4                  2           3        5  \n",
       "4            1          0                  3           0        1  \n",
       "\n",
       "[5 rows x 23 columns]"
      ]
     },
     "execution_count": 15,
     "metadata": {},
     "output_type": "execute_result"
    }
   ],
   "source": [
    "labelencoder=LabelEncoder()\n",
    "for column in df.columns:\n",
    "    df[column] = labelencoder.fit_transform(df[column])\n",
    "\n",
    "df.head()"
   ]
  },
  {
   "cell_type": "code",
   "execution_count": 16,
   "id": "0693d108",
   "metadata": {},
   "outputs": [],
   "source": [
    "df = df.drop([\"veil-type\"],axis=1)"
   ]
  },
  {
   "cell_type": "markdown",
   "id": "49815fde",
   "metadata": {
    "ExecuteTime": {
     "end_time": "2022-03-14T15:56:34.366469Z",
     "start_time": "2022-03-14T15:56:34.358471Z"
    }
   },
   "source": [
    "## División del dataset en datos de entrenamiento y datos de test "
   ]
  },
  {
   "cell_type": "code",
   "execution_count": 24,
   "id": "6f26d21e",
   "metadata": {},
   "outputs": [],
   "source": [
    "#Código que realice la división en entrenamiento y test, de acuerdo con la estretgia de evaluación planeada. Describa cuál es.\n",
    "'''Se asigna a una variable \"y\" los valores de la variable objetivo'''\n",
    "y = df[\"class\"].values\n",
    "'''Se asigna a una variable \"x\" los valores de las variables de entrada'''\n",
    "x = df.drop([\"class\"], axis=1).values\n",
    "'''Se divide la información, siedo 80% para entrenamiento y 20% para prueba'''\n",
    "x_train, x_test, y_train, y_test = train_test_split(x,y,random_state=42,test_size=0.2)"
   ]
  },
  {
   "cell_type": "markdown",
   "id": "6319adad",
   "metadata": {},
   "source": [
    "## Modelamiento"
   ]
  },
  {
   "cell_type": "code",
   "execution_count": 25,
   "id": "d5d2b2c6",
   "metadata": {},
   "outputs": [],
   "source": [
    "#Código del modelo\n",
    "'''Se instancia el modleo SVM y se lo almacena en cfl'''\n",
    "clf = svm.SVC(kernel='linear')"
   ]
  },
  {
   "cell_type": "code",
   "execution_count": 26,
   "id": "33f5be2a",
   "metadata": {
    "ExecuteTime": {
     "end_time": "2022-04-25T07:21:39.020596Z",
     "start_time": "2022-04-25T07:21:39.005596Z"
    }
   },
   "outputs": [
    {
     "data": {
      "text/plain": [
       "SVC(kernel='linear')"
      ]
     },
     "execution_count": 26,
     "metadata": {},
     "output_type": "execute_result"
    }
   ],
   "source": [
    "#Entrenamiento\n",
    "'''Se entrena al modelo con los datos de entrenamiento instanciados anteriormente'''\n",
    "clf.fit(x_train, y_train)"
   ]
  },
  {
   "cell_type": "code",
   "execution_count": 28,
   "id": "a2e675b3",
   "metadata": {},
   "outputs": [],
   "source": [
    "#Test\n",
    "'''Se genera las predicciones del modelo'''\n",
    "y_pred = clf.predict(x_test)"
   ]
  },
  {
   "cell_type": "markdown",
   "id": "9c2239f5",
   "metadata": {},
   "source": [
    "## Evaluación del Modelo"
   ]
  },
  {
   "cell_type": "markdown",
   "id": "ad219a0c",
   "metadata": {},
   "source": [
    "- La colección de datos seleccionada no contenía ningún dato nulo o vacío, por lo tanto, no fue necesario realizar una limpieza de datos.\n",
    "- Una de las características de entrada, tipo de velo (veil-type), tiene un total de una única clase por lo que se la eliminó de la colección de datos a entrenar debido a que no aporta nada al modelo predictivo\n",
    "- Debido a que en la colección de datos todas las características, tanto de entrada como salida (objetivo) son de tipo de dato categórico y fue necesario aplicar la técnica de preprocesamiento de datos LabelEncoder a cada una de las características para convertirlas a numéricas.\n",
    "- El modelo usado fue SVM (Support Vector Machine) o Máquina de vectores de apoyo y mediante una distribución del 80% de los datos para entrenamiento y 20% para pruebas, se obtuvo como resultado una precisión del 97%. Por lo tanto, se concluye que el modelo predictivo generado tiene un gran porcentaje de acierto para categorizar las setas entre comestibles y venenosas."
   ]
  },
  {
   "cell_type": "code",
   "execution_count": 29,
   "id": "28b14a2f",
   "metadata": {},
   "outputs": [
    {
     "name": "stdout",
     "output_type": "stream",
     "text": [
      "Accuracy: 0.9729230769230769\n",
      "Precision: 0.9817232375979112\n",
      "Recall: 0.9616368286445013\n"
     ]
    }
   ],
   "source": [
    "# Model Accuracy: how often is the classifier correct?\n",
    "print(\"Accuracy:\", metrics.accuracy_score(y_test, y_pred))\n",
    "\n",
    "# Model Precision: what percentage of positive tuples are labeled as such?\n",
    "print(\"Precision:\", metrics.precision_score(y_test, y_pred))\n",
    "\n",
    "# Model Recall: what percentage of positive tuples are labelled as such?\n",
    "print(\"Recall:\", metrics.recall_score(y_test, y_pred))"
   ]
  }
 ],
 "metadata": {
  "kernelspec": {
   "display_name": "Python 3 (ipykernel)",
   "language": "python",
   "name": "python3"
  },
  "language_info": {
   "codemirror_mode": {
    "name": "ipython",
    "version": 3
   },
   "file_extension": ".py",
   "mimetype": "text/x-python",
   "name": "python",
   "nbconvert_exporter": "python",
   "pygments_lexer": "ipython3",
   "version": "3.9.12"
  },
  "toc": {
   "base_numbering": 1,
   "nav_menu": {},
   "number_sections": true,
   "sideBar": true,
   "skip_h1_title": true,
   "title_cell": "Tabla de Contenido",
   "title_sidebar": "Contenido",
   "toc_cell": false,
   "toc_position": {
    "height": "calc(100% - 180px)",
    "left": "10px",
    "top": "150px",
    "width": "263.591px"
   },
   "toc_section_display": true,
   "toc_window_display": true
  }
 },
 "nbformat": 4,
 "nbformat_minor": 5
}
