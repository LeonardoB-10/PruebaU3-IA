{
 "cells": [
  {
   "cell_type": "markdown",
   "id": "7e71c67f",
   "metadata": {},
   "source": [
    "# Regresión Lineal"
   ]
  },
  {
   "cell_type": "code",
   "execution_count": 26,
   "id": "6d1abf7a",
   "metadata": {
    "ExecuteTime": {
     "end_time": "2022-03-14T15:14:46.228059Z",
     "start_time": "2022-03-14T15:14:46.223108Z"
    }
   },
   "outputs": [],
   "source": [
    "#Para esta actividad se importarán las siguientes librerías:\n",
    "import pandas as pd\n",
    "import numpy as np"
   ]
  },
  {
   "cell_type": "markdown",
   "id": "6a44b924",
   "metadata": {},
   "source": [
    "## Cargar el Dataset\n",
    "\n",
    "Con al menos 1000 instancias, una variable/atributo de la salida, y que dependa de, al menos, 6 variables/atributos de entrada. "
   ]
  },
  {
   "cell_type": "code",
   "execution_count": 27,
   "id": "3541e808",
   "metadata": {},
   "outputs": [],
   "source": [
    "#url dataset\n",
    "url='https://raw.githubusercontent.com/mmacas11/CarPricesDataset/main/Car_Prices_Dataset.csv'\n",
    "#cargar datos en base a la url del dataset\n",
    "df=pd.read_csv(url,sep=';')"
   ]
  },
  {
   "cell_type": "code",
   "execution_count": 28,
   "id": "56e95dec",
   "metadata": {},
   "outputs": [
    {
     "data": {
      "text/html": [
       "<div>\n",
       "<style scoped>\n",
       "    .dataframe tbody tr th:only-of-type {\n",
       "        vertical-align: middle;\n",
       "    }\n",
       "\n",
       "    .dataframe tbody tr th {\n",
       "        vertical-align: top;\n",
       "    }\n",
       "\n",
       "    .dataframe thead th {\n",
       "        text-align: right;\n",
       "    }\n",
       "</style>\n",
       "<table border=\"1\" class=\"dataframe\">\n",
       "  <thead>\n",
       "    <tr style=\"text-align: right;\">\n",
       "      <th></th>\n",
       "      <th>Age</th>\n",
       "      <th>KM</th>\n",
       "      <th>Weight</th>\n",
       "      <th>HP</th>\n",
       "      <th>MetColor</th>\n",
       "      <th>CC</th>\n",
       "      <th>Doors</th>\n",
       "      <th>Price</th>\n",
       "    </tr>\n",
       "  </thead>\n",
       "  <tbody>\n",
       "    <tr>\n",
       "      <th>0</th>\n",
       "      <td>23.0</td>\n",
       "      <td>46986</td>\n",
       "      <td>1165.0</td>\n",
       "      <td>90</td>\n",
       "      <td>1</td>\n",
       "      <td>2000.0</td>\n",
       "      <td>3</td>\n",
       "      <td>13500</td>\n",
       "    </tr>\n",
       "    <tr>\n",
       "      <th>1</th>\n",
       "      <td>23.0</td>\n",
       "      <td>72937</td>\n",
       "      <td>1165.0</td>\n",
       "      <td>90</td>\n",
       "      <td>1</td>\n",
       "      <td>2000.0</td>\n",
       "      <td>3</td>\n",
       "      <td>13750</td>\n",
       "    </tr>\n",
       "    <tr>\n",
       "      <th>2</th>\n",
       "      <td>24.0</td>\n",
       "      <td>41711</td>\n",
       "      <td>1165.0</td>\n",
       "      <td>90</td>\n",
       "      <td>1</td>\n",
       "      <td>2000.0</td>\n",
       "      <td>3</td>\n",
       "      <td>13950</td>\n",
       "    </tr>\n",
       "    <tr>\n",
       "      <th>3</th>\n",
       "      <td>26.0</td>\n",
       "      <td>48000</td>\n",
       "      <td>1165.0</td>\n",
       "      <td>90</td>\n",
       "      <td>0</td>\n",
       "      <td>2000.0</td>\n",
       "      <td>3</td>\n",
       "      <td>14950</td>\n",
       "    </tr>\n",
       "    <tr>\n",
       "      <th>4</th>\n",
       "      <td>30.0</td>\n",
       "      <td>38500</td>\n",
       "      <td>1170.0</td>\n",
       "      <td>90</td>\n",
       "      <td>0</td>\n",
       "      <td>2000.0</td>\n",
       "      <td>3</td>\n",
       "      <td>13750</td>\n",
       "    </tr>\n",
       "    <tr>\n",
       "      <th>5</th>\n",
       "      <td>32.0</td>\n",
       "      <td>61000</td>\n",
       "      <td>1170.0</td>\n",
       "      <td>90</td>\n",
       "      <td>0</td>\n",
       "      <td>2000.0</td>\n",
       "      <td>3</td>\n",
       "      <td>12950</td>\n",
       "    </tr>\n",
       "    <tr>\n",
       "      <th>6</th>\n",
       "      <td>27.0</td>\n",
       "      <td>94612</td>\n",
       "      <td>1245.0</td>\n",
       "      <td>90</td>\n",
       "      <td>1</td>\n",
       "      <td>2000.0</td>\n",
       "      <td>3</td>\n",
       "      <td>16900</td>\n",
       "    </tr>\n",
       "    <tr>\n",
       "      <th>7</th>\n",
       "      <td>30.0</td>\n",
       "      <td>75889</td>\n",
       "      <td>1245.0</td>\n",
       "      <td>90</td>\n",
       "      <td>1</td>\n",
       "      <td>2000.0</td>\n",
       "      <td>3</td>\n",
       "      <td>18600</td>\n",
       "    </tr>\n",
       "    <tr>\n",
       "      <th>8</th>\n",
       "      <td>27.0</td>\n",
       "      <td>19700</td>\n",
       "      <td>1185.0</td>\n",
       "      <td>192</td>\n",
       "      <td>0</td>\n",
       "      <td>1800.0</td>\n",
       "      <td>3</td>\n",
       "      <td>21500</td>\n",
       "    </tr>\n",
       "    <tr>\n",
       "      <th>9</th>\n",
       "      <td>23.0</td>\n",
       "      <td>71138</td>\n",
       "      <td>1105.0</td>\n",
       "      <td>69</td>\n",
       "      <td>0</td>\n",
       "      <td>1900.0</td>\n",
       "      <td>3</td>\n",
       "      <td>12950</td>\n",
       "    </tr>\n",
       "  </tbody>\n",
       "</table>\n",
       "</div>"
      ],
      "text/plain": [
       "    Age     KM  Weight   HP  MetColor      CC  Doors  Price\n",
       "0  23.0  46986  1165.0   90         1  2000.0      3  13500\n",
       "1  23.0  72937  1165.0   90         1  2000.0      3  13750\n",
       "2  24.0  41711  1165.0   90         1  2000.0      3  13950\n",
       "3  26.0  48000  1165.0   90         0  2000.0      3  14950\n",
       "4  30.0  38500  1170.0   90         0  2000.0      3  13750\n",
       "5  32.0  61000  1170.0   90         0  2000.0      3  12950\n",
       "6  27.0  94612  1245.0   90         1  2000.0      3  16900\n",
       "7  30.0  75889  1245.0   90         1  2000.0      3  18600\n",
       "8  27.0  19700  1185.0  192         0  1800.0      3  21500\n",
       "9  23.0  71138  1105.0   69         0  1900.0      3  12950"
      ]
     },
     "execution_count": 28,
     "metadata": {},
     "output_type": "execute_result"
    }
   ],
   "source": [
    "#visualización de los 10 primeros datos\n",
    "df.head(10)"
   ]
  },
  {
   "cell_type": "code",
   "execution_count": 29,
   "id": "87ce602f",
   "metadata": {},
   "outputs": [
    {
     "data": {
      "text/html": [
       "<div>\n",
       "<style scoped>\n",
       "    .dataframe tbody tr th:only-of-type {\n",
       "        vertical-align: middle;\n",
       "    }\n",
       "\n",
       "    .dataframe tbody tr th {\n",
       "        vertical-align: top;\n",
       "    }\n",
       "\n",
       "    .dataframe thead th {\n",
       "        text-align: right;\n",
       "    }\n",
       "</style>\n",
       "<table border=\"1\" class=\"dataframe\">\n",
       "  <thead>\n",
       "    <tr style=\"text-align: right;\">\n",
       "      <th></th>\n",
       "      <th>Age</th>\n",
       "      <th>KM</th>\n",
       "      <th>Weight</th>\n",
       "      <th>HP</th>\n",
       "      <th>MetColor</th>\n",
       "      <th>CC</th>\n",
       "      <th>Doors</th>\n",
       "      <th>Price</th>\n",
       "    </tr>\n",
       "  </thead>\n",
       "  <tbody>\n",
       "    <tr>\n",
       "      <th>count</th>\n",
       "      <td>1435.000000</td>\n",
       "      <td>1435.000000</td>\n",
       "      <td>1435.000000</td>\n",
       "      <td>1435.000000</td>\n",
       "      <td>1435.000000</td>\n",
       "      <td>1435.000000</td>\n",
       "      <td>1435.000000</td>\n",
       "      <td>1435.000000</td>\n",
       "    </tr>\n",
       "    <tr>\n",
       "      <th>mean</th>\n",
       "      <td>56.027178</td>\n",
       "      <td>68571.782578</td>\n",
       "      <td>1071.659930</td>\n",
       "      <td>101.491986</td>\n",
       "      <td>0.674564</td>\n",
       "      <td>1566.735192</td>\n",
       "      <td>4.032753</td>\n",
       "      <td>10720.915679</td>\n",
       "    </tr>\n",
       "    <tr>\n",
       "      <th>std</th>\n",
       "      <td>18.532943</td>\n",
       "      <td>37491.094553</td>\n",
       "      <td>47.688509</td>\n",
       "      <td>14.981408</td>\n",
       "      <td>0.468701</td>\n",
       "      <td>186.767122</td>\n",
       "      <td>0.952667</td>\n",
       "      <td>3608.732978</td>\n",
       "    </tr>\n",
       "    <tr>\n",
       "      <th>min</th>\n",
       "      <td>1.000000</td>\n",
       "      <td>1.000000</td>\n",
       "      <td>1000.000000</td>\n",
       "      <td>69.000000</td>\n",
       "      <td>0.000000</td>\n",
       "      <td>1300.000000</td>\n",
       "      <td>2.000000</td>\n",
       "      <td>4350.000000</td>\n",
       "    </tr>\n",
       "    <tr>\n",
       "      <th>25%</th>\n",
       "      <td>44.000000</td>\n",
       "      <td>43000.000000</td>\n",
       "      <td>1040.000000</td>\n",
       "      <td>90.000000</td>\n",
       "      <td>0.000000</td>\n",
       "      <td>1400.000000</td>\n",
       "      <td>3.000000</td>\n",
       "      <td>8450.000000</td>\n",
       "    </tr>\n",
       "    <tr>\n",
       "      <th>50%</th>\n",
       "      <td>61.000000</td>\n",
       "      <td>63451.000000</td>\n",
       "      <td>1070.000000</td>\n",
       "      <td>110.000000</td>\n",
       "      <td>1.000000</td>\n",
       "      <td>1600.000000</td>\n",
       "      <td>4.000000</td>\n",
       "      <td>9900.000000</td>\n",
       "    </tr>\n",
       "    <tr>\n",
       "      <th>75%</th>\n",
       "      <td>70.000000</td>\n",
       "      <td>87041.500000</td>\n",
       "      <td>1085.000000</td>\n",
       "      <td>110.000000</td>\n",
       "      <td>1.000000</td>\n",
       "      <td>1600.000000</td>\n",
       "      <td>5.000000</td>\n",
       "      <td>11950.000000</td>\n",
       "    </tr>\n",
       "    <tr>\n",
       "      <th>max</th>\n",
       "      <td>80.000000</td>\n",
       "      <td>243000.000000</td>\n",
       "      <td>1320.000000</td>\n",
       "      <td>192.000000</td>\n",
       "      <td>1.000000</td>\n",
       "      <td>2000.000000</td>\n",
       "      <td>5.000000</td>\n",
       "      <td>32500.000000</td>\n",
       "    </tr>\n",
       "  </tbody>\n",
       "</table>\n",
       "</div>"
      ],
      "text/plain": [
       "               Age             KM       Weight           HP     MetColor  \\\n",
       "count  1435.000000    1435.000000  1435.000000  1435.000000  1435.000000   \n",
       "mean     56.027178   68571.782578  1071.659930   101.491986     0.674564   \n",
       "std      18.532943   37491.094553    47.688509    14.981408     0.468701   \n",
       "min       1.000000       1.000000  1000.000000    69.000000     0.000000   \n",
       "25%      44.000000   43000.000000  1040.000000    90.000000     0.000000   \n",
       "50%      61.000000   63451.000000  1070.000000   110.000000     1.000000   \n",
       "75%      70.000000   87041.500000  1085.000000   110.000000     1.000000   \n",
       "max      80.000000  243000.000000  1320.000000   192.000000     1.000000   \n",
       "\n",
       "                CC        Doors         Price  \n",
       "count  1435.000000  1435.000000   1435.000000  \n",
       "mean   1566.735192     4.032753  10720.915679  \n",
       "std     186.767122     0.952667   3608.732978  \n",
       "min    1300.000000     2.000000   4350.000000  \n",
       "25%    1400.000000     3.000000   8450.000000  \n",
       "50%    1600.000000     4.000000   9900.000000  \n",
       "75%    1600.000000     5.000000  11950.000000  \n",
       "max    2000.000000     5.000000  32500.000000  "
      ]
     },
     "execution_count": 29,
     "metadata": {},
     "output_type": "execute_result"
    }
   ],
   "source": [
    "#desplegar la descripción del dataset\n",
    "df.describe()"
   ]
  },
  {
   "cell_type": "markdown",
   "id": "93c30410",
   "metadata": {},
   "source": [
    "## Descripción de la fuente del Dataset"
   ]
  },
  {
   "cell_type": "markdown",
   "id": "db6174bc",
   "metadata": {},
   "source": [
    "El dataset contiene información de 1435 automóviles de segunda mano. Dicho dataset contiene 8 atributos, incluida una característica de clase (objetivo) que indica el precio del automóvil. El significado comercial de cada columna (atributo) en los datos es el siguiente:\n",
    "\n",
    "**Price:** Continuous. El precio del auto en dolares\n",
    "\n",
    "**Age:** Continuous. La edad del coche en meses.\n",
    "\n",
    "**KM:** Continuous. Cuantos KMS se uso el auto\n",
    "\n",
    "**HP:** Categorical. Caballos de fuerza del coche\n",
    "\n",
    "**MetColor:** Categorical. Si el coche tiene un color metálico o no\n",
    "\n",
    "**CC:** Categorical. El tamaño del motor del coche.\n",
    "\n",
    "**Doors:** Categorical. El número de puertas en el coche.\n",
    "\n",
    "**Weight:** Continuous. El peso del coche."
   ]
  },
  {
   "cell_type": "markdown",
   "id": "7f868eab",
   "metadata": {},
   "source": [
    "## Explique el problema a resolver. "
   ]
  },
  {
   "cell_type": "markdown",
   "id": "097de053",
   "metadata": {},
   "source": [
    "Se requiere crear un modelo de aprendizaje automático que permita predecir el precio adecuado de un automóvil de segunda mano en función de sus especificaciones. Para lo cuál se utilizará el dataset descrito en el apartado anterior, el cuál contiene 1435 samples. Donde, la variable objetivo se denomina **\"Price\"**. Existen 7 variables de entrada llamadas: **Age,** **KM,** **Weight,** **HP,** **MetColor,** **CC,** **Doors,** **y Price.** "
   ]
  },
  {
   "cell_type": "markdown",
   "id": "a0b719c1",
   "metadata": {},
   "source": [
    "## Caracterización del Dataset\n"
   ]
  },
  {
   "cell_type": "markdown",
   "id": "cee06c0f",
   "metadata": {},
   "source": [
    "### Número de instancias en total"
   ]
  },
  {
   "cell_type": "code",
   "execution_count": 30,
   "id": "47b4cde5",
   "metadata": {},
   "outputs": [
    {
     "data": {
      "text/plain": [
       "Age         1435\n",
       "KM          1435\n",
       "Weight      1435\n",
       "HP          1435\n",
       "MetColor    1435\n",
       "CC          1435\n",
       "Doors       1435\n",
       "Price       1435\n",
       "dtype: int64"
      ]
     },
     "execution_count": 30,
     "metadata": {},
     "output_type": "execute_result"
    }
   ],
   "source": [
    "#contar registros del dataset\n",
    "df.count()"
   ]
  },
  {
   "cell_type": "markdown",
   "id": "2f2da79f",
   "metadata": {},
   "source": [
    "### Número de atributos de entrada, su significado y tipo"
   ]
  },
  {
   "cell_type": "markdown",
   "id": "579d4fe7",
   "metadata": {},
   "source": [
    "**Age:** Continuous. La edad del coche en meses.\n",
    "\n",
    "**KM:** Continuous. Cuantos KMS se uso el auto\n",
    "\n",
    "**HP:** Categorical. Caballos de fuerza del coche\n",
    "\n",
    "**MetColor:** Categorical. Si el coche tiene un color metálico o no\n",
    "\n",
    "**CC:** Categorical. El tamaño del motor del coche.\n",
    "\n",
    "**Doors:** Categorical. El número de puertas en el coche.\n",
    "\n",
    "**Weight:** Continuous. El peso del coche."
   ]
  },
  {
   "cell_type": "code",
   "execution_count": 31,
   "id": "81498d2c",
   "metadata": {},
   "outputs": [
    {
     "name": "stdout",
     "output_type": "stream",
     "text": [
      "<class 'pandas.core.frame.DataFrame'>\n",
      "RangeIndex: 1435 entries, 0 to 1434\n",
      "Data columns (total 7 columns):\n",
      " #   Column    Non-Null Count  Dtype  \n",
      "---  ------    --------------  -----  \n",
      " 0   Age       1435 non-null   float64\n",
      " 1   KM        1435 non-null   int64  \n",
      " 2   Weight    1435 non-null   float64\n",
      " 3   HP        1435 non-null   int64  \n",
      " 4   MetColor  1435 non-null   int64  \n",
      " 5   CC        1435 non-null   float64\n",
      " 6   Doors     1435 non-null   int64  \n",
      "dtypes: float64(3), int64(4)\n",
      "memory usage: 78.6 KB\n"
     ]
    }
   ],
   "source": [
    "#muestra la información (incluido el tipo de dato) de los 7 atributos de entrada.\n",
    "df.drop('Price', axis=1).info()"
   ]
  },
  {
   "cell_type": "markdown",
   "id": "8ffb803d",
   "metadata": {},
   "source": [
    "### Mirando la distribución de la variable objetivo"
   ]
  },
  {
   "cell_type": "markdown",
   "id": "372ccbd4",
   "metadata": {},
   "source": [
    "Ya que vamos a programar un modelo de regresión, nos vamos asegurar de que el histograma se vea como una curva de campana o una versión levemente sesgada de la misma. De lo contrario, afecta la capacidad de los algoritmos de aprendizaje automático para aprender todos los escenarios."
   ]
  },
  {
   "cell_type": "code",
   "execution_count": 32,
   "id": "506c9c98",
   "metadata": {},
   "outputs": [
    {
     "data": {
      "text/plain": [
       "<AxesSubplot:>"
      ]
     },
     "execution_count": 32,
     "metadata": {},
     "output_type": "execute_result"
    },
    {
     "data": {
      "image/png": "[encoded data removed]",
      "text/plain": [
       "<Figure size 432x288 with 1 Axes>"
      ]
     },
     "metadata": {
      "needs_background": "light"
     },
     "output_type": "display_data"
    }
   ],
   "source": [
    "%matplotlib inline\n",
    "#Crear gráfico de barras como la variable objetivo (tipo) continua.\n",
    "df['Price'].hist()"
   ]
  },
  {
   "cell_type": "markdown",
   "id": "c5f02c5f",
   "metadata": {},
   "source": [
    "La distribución de datos de la variable objetivo es satisfactoria para continuar. Hay un número suficiente de filas para cada tipo de valores de los que puede aprender el modelo."
   ]
  },
  {
   "cell_type": "markdown",
   "id": "40261355",
   "metadata": {},
   "source": [
    "### Análisis exploratorio de datos"
   ]
  },
  {
   "cell_type": "markdown",
   "id": "73e71c37",
   "metadata": {},
   "source": [
    ">- Variables categóricas: gráfico de barras\n",
    ">- Variables continuas: Histograma"
   ]
  },
  {
   "cell_type": "markdown",
   "id": "68263d0c",
   "metadata": {},
   "source": [
    "#### Visualización la distribución de todas las variables de entrada categóricas mediante diagramas de barras"
   ]
  },
  {
   "cell_type": "code",
   "execution_count": 33,
   "id": "89316617",
   "metadata": {},
   "outputs": [
    {
     "data": {
      "text/plain": [
       "Age           77\n",
       "KM          1263\n",
       "Weight        57\n",
       "HP            12\n",
       "MetColor       2\n",
       "CC            12\n",
       "Doors          4\n",
       "Price        236\n",
       "dtype: int64"
      ]
     },
     "execution_count": 33,
     "metadata": {},
     "output_type": "execute_result"
    }
   ],
   "source": [
    "#Encontrando valores únicos para cada columna para comprender qué columna es categórica y cuál es continua\n",
    "#Por lo general, si el número de valores únicos es < 20, es probable que la variable sea una categoría que, de otro modo, sería continua\n",
    "df.nunique()"
   ]
  },
  {
   "cell_type": "markdown",
   "id": "4cc3e5c7",
   "metadata": {},
   "source": [
    "Podemos detectar una variable categórica en los datos observando los valores únicos en ellos. Por lo general, una variable categórica contiene menos de 20 valores únicos y hay una repetición de valores, lo que significa que los datos se pueden agrupar por esos valores únicos.\n",
    "\n",
    "Con base en la exploración básica de datos anterior, hemos detectado 4 atributos categóricos en los datos: **'HP', 'MetColor', 'CC', 'Doors'** \n",
    "\n",
    "A continuación, usamos gráficos de barras para ver cómo se distribuyen los datos para estos atributos categóricos."
   ]
  },
  {
   "cell_type": "code",
   "execution_count": 34,
   "id": "1f5a6590",
   "metadata": {},
   "outputs": [],
   "source": [
    "#Plotting de múltiples gráficos de barras a la vez para variables categóricas.\n",
    "#Dado que no existe una función predeterminada que pueda trazar gráficos de barras para varias columnas a la vez, \n",
    "#estamos definiendo nuestra propia función para la misma.\n",
    "\n",
    "def PlotBarCharts(inpData, colsToPlot):\n",
    "    %matplotlib inline\n",
    "    \n",
    "    import matplotlib.pyplot as plt\n",
    "    \n",
    "    # Generating multiple subplots\n",
    "    fig, subPlot=plt.subplots(nrows=1, ncols=len(colsToPlot), figsize=(20,5))\n",
    "    fig.suptitle('Bar charts of: '+ str(colsToPlot))\n",
    "\n",
    "    for colName, plotNumber in zip(colsToPlot, range(len(colsToPlot))):\n",
    "        inpData.groupby(colName).size().plot(kind='bar',ax=subPlot[plotNumber])"
   ]
  },
  {
   "cell_type": "code",
   "execution_count": 35,
   "id": "5e7396e9",
   "metadata": {},
   "outputs": [
    {
     "data": {
      "image/png": "[encoded data removed]",
      "text/plain": [
       "<Figure size 1440x360 with 4 Axes>"
      ]
     },
     "metadata": {
      "needs_background": "light"
     },
     "output_type": "display_data"
    }
   ],
   "source": [
    "#Llamando a la función PlotBarCharts\n",
    "PlotBarCharts(inpData=df, colsToPlot=['HP', 'MetColor', 'CC', 'Doors'])"
   ]
  },
  {
   "cell_type": "markdown",
   "id": "c3ccfa96",
   "metadata": {},
   "source": [
    "**Interpretación:** Estos gráficos de barras representan las frecuencias de cada categoría en el eje 'Y' y los nombres de las categorías en el eje 'X'.\n",
    "\n",
    "En el gráfico de barras ideal, cada categoría tiene una frecuencia comparable. Por lo tanto, hay suficientes filas para cada categoría en los datos para que el algoritmo de aprendizaje automático aprenda.\n",
    "\n",
    "Si hay una columna que muestra una distribución demasiado sesgada donde solo hay una barra dominante y las otras categorías están presentes en números muy bajos. Este tipo de columnas pueden no ser muy útiles en el aprendizaje automático. Confirmamos esto en la sección de análisis de correlación y tomamos una llamada final para seleccionar o rechazar la columna.\n",
    "\n",
    "Variables categóricas seleccionadas: todas las variables categóricas se seleccionan para su posterior análisis.\n",
    "\n",
    "**'HP', 'MetColor', 'CC', 'Doors'**"
   ]
  },
  {
   "cell_type": "markdown",
   "id": "a22dc9c4",
   "metadata": {},
   "source": [
    "### Visualizar la distribución de todas las variables continuas usando histogramas"
   ]
  },
  {
   "cell_type": "code",
   "execution_count": 36,
   "id": "dc576857",
   "metadata": {},
   "outputs": [
    {
     "data": {
      "text/plain": [
       "array([[<AxesSubplot:title={'center':'Age'}>,\n",
       "        <AxesSubplot:title={'center':'KM'}>],\n",
       "       [<AxesSubplot:title={'center':'Weight'}>, <AxesSubplot:>]],\n",
       "      dtype=object)"
      ]
     },
     "execution_count": 36,
     "metadata": {},
     "output_type": "execute_result"
    },
    {
     "data": {
      "image/png": "[encoded data removed]",
      "text/plain": [
       "<Figure size 1296x720 with 4 Axes>"
      ]
     },
     "metadata": {
      "needs_background": "light"
     },
     "output_type": "display_data"
    }
   ],
   "source": [
    "# Plotting histogramas de múltiples columnas juntas\n",
    "df.hist(['Age','KM','Weight'], figsize=(18,10))"
   ]
  },
  {
   "cell_type": "markdown",
   "id": "12789081",
   "metadata": {},
   "source": [
    "**Interpretación:**\n",
    "\n",
    "El eje X muestra el rango de valores y el eje Y representa el número de valores en ese rango. Por ejemplo, en el histograma anterior de \"Edad\", hay alrededor de 300 filas de datos que tienen un valor entre 70 y 80.\n",
    "\n",
    "El resultado ideal para el histograma es una curva de campana o una curva de campana ligeramente sesgada. Si hay demasiada asimetría, se debe realizar un tratamiento de valores atípicos y se debe volver a examinar la columna; si eso tampoco resuelve el problema, entonces solo se debe rechazar la columna.\n",
    "\n",
    "Variables continuas seleccionadas:\n",
    "\n",
    "     Age: Seleccionado. La distribución es buena.\n",
    "     KM: Seleccionado. La distribución es buena.\n",
    "     Weight: Seleccionado. La distribución es buena. \n"
   ]
  },
  {
   "cell_type": "markdown",
   "id": "b82d7368",
   "metadata": {},
   "source": [
    "### Exploración de relaciones: Continuo Vs Continuo -- Scatter Charts (Gráficos de dispersión)"
   ]
  },
  {
   "cell_type": "markdown",
   "id": "4be19f55",
   "metadata": {},
   "source": [
    "Cuando la variable objetivo es continua y la variables de entrada también es continua, podemos visualizar la relación entre las dos variables usando un gráfico de dispersión y medir la fuerza de la relación usando el valor de correlación de Pearson."
   ]
  },
  {
   "cell_type": "code",
   "execution_count": 37,
   "id": "12185f89",
   "metadata": {},
   "outputs": [
    {
     "data": {
      "image/png": "[encoded data removed]",
      "text/plain": [
       "<Figure size 720x360 with 1 Axes>"
      ]
     },
     "metadata": {
      "needs_background": "light"
     },
     "output_type": "display_data"
    },
    {
     "data": {
      "image/png": "[encoded data removed]",
      "text/plain": [
       "<Figure size 720x360 with 1 Axes>"
      ]
     },
     "metadata": {
      "needs_background": "light"
     },
     "output_type": "display_data"
    },
    {
     "data": {
      "image/png": "[encoded data removed]",
      "text/plain": [
       "<Figure size 720x360 with 1 Axes>"
      ]
     },
     "metadata": {
      "needs_background": "light"
     },
     "output_type": "display_data"
    }
   ],
   "source": [
    "ContinuousCols=['Age','KM','Weight']\n",
    "\n",
    "# Plotting scatter chart por cada variable de entrada vs varible objetivo\n",
    "for predictor in ContinuousCols:\n",
    "    df.plot.scatter(x=predictor, y='Price', figsize=(10,5), title=predictor+\" VS \"+ 'Price')\n"
   ]
  },
  {
   "cell_type": "markdown",
   "id": "104e4a27",
   "metadata": {},
   "source": [
    "**Interpretación:** ¿Qué debe buscar en estos gráficos de dispersión?\n",
    "\n",
    "Tendencia. Debe intentar ver si hay una tendencia visible o no. Podría haber tres escenarios\n",
    "\n",
    "     Tendencia Creciente: Esto significa que ambas variables están correlacionadas positivamente. En términos más simples, son directamente proporcionales entre sí, si un valor aumenta, el otro también aumenta. Lo cual, es bueno para ML.\n",
    "\n",
    "     Tendencia decreciente: Esto significa que ambas variables están negativamente correlacionadas. En términos más simples, son inversamente proporcionales entre sí, si un valor aumenta, otro disminuye. Lo cual, es bueno para ML.\n",
    "\n",
    "     Sin tendencia: no puede ver ninguna tendencia clara creciente o decreciente. Esto significa que no hay correlación entre las variables. Por lo tanto, el artributo de entrada no puede ser usado en el modelo del ML.\n",
    "\n",
    "Con base en este gráfico, puede obtener una buena idea sobre cada variable de entrada, si será útil o no. Confirma esto mirando el valor de correlación."
   ]
  },
  {
   "cell_type": "markdown",
   "id": "adf9fe26",
   "metadata": {},
   "source": [
    "### Selección de caracteristicas (continua vs continua) utilizando el valor de correlación"
   ]
  },
  {
   "cell_type": "code",
   "execution_count": 38,
   "id": "eddb7977",
   "metadata": {},
   "outputs": [
    {
     "data": {
      "text/html": [
       "<div>\n",
       "<style scoped>\n",
       "    .dataframe tbody tr th:only-of-type {\n",
       "        vertical-align: middle;\n",
       "    }\n",
       "\n",
       "    .dataframe tbody tr th {\n",
       "        vertical-align: top;\n",
       "    }\n",
       "\n",
       "    .dataframe thead th {\n",
       "        text-align: right;\n",
       "    }\n",
       "</style>\n",
       "<table border=\"1\" class=\"dataframe\">\n",
       "  <thead>\n",
       "    <tr style=\"text-align: right;\">\n",
       "      <th></th>\n",
       "      <th>Price</th>\n",
       "      <th>Age</th>\n",
       "      <th>KM</th>\n",
       "      <th>Weight</th>\n",
       "    </tr>\n",
       "  </thead>\n",
       "  <tbody>\n",
       "    <tr>\n",
       "      <th>Price</th>\n",
       "      <td>1.000000</td>\n",
       "      <td>-0.874196</td>\n",
       "      <td>-0.569420</td>\n",
       "      <td>0.589002</td>\n",
       "    </tr>\n",
       "    <tr>\n",
       "      <th>Age</th>\n",
       "      <td>-0.874196</td>\n",
       "      <td>1.000000</td>\n",
       "      <td>0.502604</td>\n",
       "      <td>-0.488324</td>\n",
       "    </tr>\n",
       "    <tr>\n",
       "      <th>KM</th>\n",
       "      <td>-0.569420</td>\n",
       "      <td>0.502604</td>\n",
       "      <td>1.000000</td>\n",
       "      <td>-0.013607</td>\n",
       "    </tr>\n",
       "    <tr>\n",
       "      <th>Weight</th>\n",
       "      <td>0.589002</td>\n",
       "      <td>-0.488324</td>\n",
       "      <td>-0.013607</td>\n",
       "      <td>1.000000</td>\n",
       "    </tr>\n",
       "  </tbody>\n",
       "</table>\n",
       "</div>"
      ],
      "text/plain": [
       "           Price       Age        KM    Weight\n",
       "Price   1.000000 -0.874196 -0.569420  0.589002\n",
       "Age    -0.874196  1.000000  0.502604 -0.488324\n",
       "KM     -0.569420  0.502604  1.000000 -0.013607\n",
       "Weight  0.589002 -0.488324 -0.013607  1.000000"
      ]
     },
     "execution_count": 38,
     "metadata": {},
     "output_type": "execute_result"
    }
   ],
   "source": [
    "# Cálculo de la matriz de correlación\n",
    "ContinuousCols=['Price','Age','KM','Weight']\n",
    "\n",
    "#Creación de la matriz de correlación\n",
    "CorrelationData=df[ContinuousCols].corr()\n",
    "CorrelationData"
   ]
  },
  {
   "cell_type": "code",
   "execution_count": 39,
   "id": "6b6fe2e3",
   "metadata": {},
   "outputs": [
    {
     "data": {
      "text/plain": [
       "Price     1.000000\n",
       "Age      -0.874196\n",
       "KM       -0.569420\n",
       "Weight    0.589002\n",
       "Name: Price, dtype: float64"
      ]
     },
     "execution_count": 39,
     "metadata": {},
     "output_type": "execute_result"
    }
   ],
   "source": [
    "# Filtrando solo aquellas columnas donde la correlación absoluta > 0.5 con la variable objetivo\n",
    "CorrelationData['Price'][abs(CorrelationData['Price']) > 0.5 ]"
   ]
  },
  {
   "cell_type": "markdown",
   "id": "c7a3feee",
   "metadata": {},
   "source": [
    "**Columnas continuas seleccionadas finales:** 'Age','KM','Weight'"
   ]
  },
  {
   "cell_type": "markdown",
   "id": "09f0d979",
   "metadata": {},
   "source": [
    "### Exploración de relaciones: Categórico Vs Continuo -- Gráficas de caja"
   ]
  },
  {
   "cell_type": "markdown",
   "id": "3c76241d",
   "metadata": {},
   "source": [
    "Cuando la variable objetivo es continua y la variable de entrada es categórica, analizamos la relación usando diagramas de caja y medimos la fuerza de la relación usando la prueba de Anova."
   ]
  },
  {
   "cell_type": "code",
   "execution_count": 40,
   "id": "b085ec4c",
   "metadata": {},
   "outputs": [
    {
     "data": {
      "image/png": "[encoded data removed]",
      "text/plain": [
       "<Figure size 1296x360 with 4 Axes>"
      ]
     },
     "metadata": {
      "needs_background": "light"
     },
     "output_type": "display_data"
    }
   ],
   "source": [
    "# Diagramas de caja para variable objetivo \"Price\" y las variables de entrada\n",
    "CategoricalColsList=['HP', 'MetColor', 'CC', 'Doors']\n",
    "\n",
    "import matplotlib.pyplot as plt\n",
    "fig, PlotCanvas=plt.subplots(nrows=1, ncols=len(CategoricalColsList), figsize=(18,5))\n",
    "\n",
    "#Creación de diagramas de caja para cada variable continua contra \"Price\" (variable objetivo)\n",
    "for PredictorCol , i in zip(CategoricalColsList, range(len(CategoricalColsList))):\n",
    "    df.boxplot(column='Price', by=PredictorCol, figsize=(5,5), vert=True, ax=PlotCanvas[i])"
   ]
  },
  {
   "cell_type": "markdown",
   "id": "4236ec50",
   "metadata": {},
   "source": [
    "**Interpretación:** Esos diagramas de caja dan una idea sobre la distribución de datos de cada atributo de entrada categórico en el eje X sobre la variable objetivo en el eje Y.\n",
    "\n",
    "Si la distribución parece similar para cada categoría (los recuadros están en la misma línea), eso significa que la variable continua NO tiene efecto en la variable objetivo. Por lo tanto, las variables no están correlacionadas entre sí.\n",
    "\n",
    "Por otro lado, si la distribución es diferente para cada categoría (¡las casillas no están en la misma línea!). Sugiere que estas variables podrían estar correlacionadas con el precio.\n",
    "\n",
    "En estos datos, todos las varibles de entrada categóricos parecen correlacionados con la variable objetivo.\n",
    "\n",
    "Confirmamos esto mirando los resultados de la prueba ANOVA a continuación."
   ]
  },
  {
   "cell_type": "markdown",
   "id": "b44ba2c1",
   "metadata": {},
   "source": [
    "### Selección de características estadísticas (categóricas frente a continuas) mediante la prueba ANOVA"
   ]
  },
  {
   "cell_type": "markdown",
   "id": "5485293a",
   "metadata": {},
   "source": [
    "Se realiza un análisis de varianza (ANOVA) para verificar si existe alguna relación entre la variable categórica y continua dada.\n",
    "\n",
    "Suposición (H0): NO existe una relación entre las variables dadas (es decir, los valores promedio (media) de la variable objetivo numérica son los mismos para todos los grupos en la variable de entrada categórica)\n",
    "\n",
    "Resultado de la prueba ANOVA: Probabilidad de que H0 sea verdadera"
   ]
  },
  {
   "cell_type": "code",
   "execution_count": 41,
   "id": "8d6c399b",
   "metadata": {},
   "outputs": [],
   "source": [
    "#Definición de una función para encontrar la relación estadística de variable objetivo contra todas las variables categóricas\n",
    "def FunctionAnova(inpData, TargetVariable, CategoricalPredictorList):\n",
    "    from scipy.stats import f_oneway\n",
    "\n",
    "    #Creación de una lista vacía de predictores o variables de entrada \n",
    "    SelectedPredictors=[]\n",
    "    \n",
    "    print('##### ANOVA Results ##### \\n')\n",
    "    for predictor in CategoricalPredictorList:\n",
    "        CategoryGroupLists=inpData.groupby(predictor)[TargetVariable].apply(list)\n",
    "        AnovaResults = f_oneway(*CategoryGroupLists)\n",
    "        #Si el valor P de ANOVA es <0.05, eso significa que rechazamos H0\n",
    "        if (AnovaResults[1] < 0.05):\n",
    "            print(predictor, 'is correlated with', TargetVariable, '| P-Value:', AnovaResults[1])\n",
    "            SelectedPredictors.append(predictor)\n",
    "        else:\n",
    "            print(predictor, 'is NOT correlated with', TargetVariable, '| P-Value:', AnovaResults[1])\n",
    "    \n",
    "    return(SelectedPredictors)"
   ]
  },
  {
   "cell_type": "code",
   "execution_count": 42,
   "id": "36113200",
   "metadata": {},
   "outputs": [
    {
     "name": "stdout",
     "output_type": "stream",
     "text": [
      "##### ANOVA Results ##### \n",
      "\n",
      "HP is correlated with Price | P-Value: 4.403061434008212e-109\n",
      "MetColor is correlated with Price | P-Value: 4.4173957971674025e-05\n",
      "CC is correlated with Price | P-Value: 2.566835080246702e-47\n",
      "Doors is correlated with Price | P-Value: 9.51180734144394e-13\n"
     ]
    },
    {
     "data": {
      "text/plain": [
       "['HP', 'MetColor', 'CC', 'Doors']"
      ]
     },
     "execution_count": 42,
     "metadata": {},
     "output_type": "execute_result"
    }
   ],
   "source": [
    "#Llamar a la función para verificar qué variables categóricas están correlacionadas con la variable objetivo\n",
    "CategoricalPredictorList=['HP', 'MetColor','CC', 'Doors']\n",
    "FunctionAnova(inpData=df, \n",
    "              TargetVariable='Price', \n",
    "              CategoricalPredictorList=CategoricalPredictorList)"
   ]
  },
  {
   "cell_type": "markdown",
   "id": "c42e18e9",
   "metadata": {},
   "source": [
    "Los resultados de ANOVA confirman nuestro análisis visual utilizando diagramas de caja anteriores.\n",
    "\n",
    "Todas las variables categóricas están correlacionadas con la variable objetivo.\n",
    "Columnas categóricas seleccionadas finales:\n",
    "\n",
    "'HP', 'MetColor', 'CC', 'Doors'"
   ]
  },
  {
   "cell_type": "markdown",
   "id": "ece5beca",
   "metadata": {
    "ExecuteTime": {
     "end_time": "2022-03-14T15:52:20.156185Z",
     "start_time": "2022-03-14T15:52:20.150187Z"
    }
   },
   "source": [
    "## Preprocesamiento del dataset. Transformaciones previas necesarias para la modelación"
   ]
  },
  {
   "cell_type": "code",
   "execution_count": 43,
   "id": "85c9ad88",
   "metadata": {},
   "outputs": [],
   "source": [
    "# Variable objetivo y variables de entrada\n",
    "VariableObjetivo=['Price']\n",
    "VariablesEntrada=['Age', 'KM', 'Weight', 'HP', 'MetColor', 'CC', 'Doors']"
   ]
  },
  {
   "cell_type": "code",
   "execution_count": 44,
   "id": "526cb145",
   "metadata": {},
   "outputs": [],
   "source": [
    "X=df[VariablesEntrada].values\n",
    "y=df[VariableObjetivo].values"
   ]
  },
  {
   "cell_type": "code",
   "execution_count": 45,
   "id": "5ed7a4c3",
   "metadata": {},
   "outputs": [],
   "source": [
    "### Estandarización de la data ###\n",
    "from sklearn.preprocessing import StandardScaler\n",
    "VariablesEntradaScaler=StandardScaler()\n",
    "VariableObjetivoScaler=StandardScaler()"
   ]
  },
  {
   "cell_type": "code",
   "execution_count": 46,
   "id": "35a31b70",
   "metadata": {},
   "outputs": [],
   "source": [
    "#Almacenamiento del objeto de ajuste para referencia posterior\n",
    "VariablesEntradaFit=VariablesEntradaScaler.fit(X)\n",
    "VariableObjetivoFit=VariableObjetivoScaler.fit(y)"
   ]
  },
  {
   "cell_type": "code",
   "execution_count": 47,
   "id": "85145d85",
   "metadata": {},
   "outputs": [],
   "source": [
    "#Generación de los valores estandarizados de X e y\n",
    "X=VariablesEntradaFit.transform(X)\n",
    "y=VariableObjetivoFit.transform(y)"
   ]
  },
  {
   "cell_type": "markdown",
   "id": "49815fde",
   "metadata": {
    "ExecuteTime": {
     "end_time": "2022-03-14T15:56:34.366469Z",
     "start_time": "2022-03-14T15:56:34.358471Z"
    }
   },
   "source": [
    "## División del dataset en datos de entrenamiento y datos de test "
   ]
  },
  {
   "cell_type": "code",
   "execution_count": 48,
   "id": "6f26d21e",
   "metadata": {},
   "outputs": [],
   "source": [
    "#Divida los datos en un conjunto de entrenamiento y prueba\n",
    "from sklearn.model_selection import train_test_split\n",
    "X_train, X_test, y_train, y_test = train_test_split(X, y, test_size=0.3, random_state=42)"
   ]
  },
  {
   "cell_type": "code",
   "execution_count": 49,
   "id": "03a1033f",
   "metadata": {},
   "outputs": [
    {
     "name": "stdout",
     "output_type": "stream",
     "text": [
      "(1004, 7)\n",
      "(1004, 1)\n",
      "(431, 7)\n",
      "(431, 1)\n"
     ]
    }
   ],
   "source": [
    "#Comprobación rápida del tamaño de los conjuntos de datos de entrenamiento y prueba\n",
    "print(X_train.shape)\n",
    "print(y_train.shape)\n",
    "print(X_test.shape)\n",
    "print(y_test.shape)"
   ]
  },
  {
   "cell_type": "markdown",
   "id": "a652d4ba",
   "metadata": {},
   "source": [
    "## Propuesta de arquitectura de red neuronal"
   ]
  },
  {
   "cell_type": "markdown",
   "id": "d4a83252",
   "metadata": {},
   "source": [
    "Describe: \n",
    "\n",
    "+ las neuronas en la capa de entrada \n",
    "+ las capas intermedias – al menos dos – \n",
    "+ capa de salida\n",
    "+ funciones de activación"
   ]
  },
  {
   "cell_type": "code",
   "execution_count": 50,
   "id": "c36de71e",
   "metadata": {},
   "outputs": [],
   "source": [
    "#importar librerías\n",
    "from keras.models import Sequential\n",
    "from keras.layers import Dense"
   ]
  },
  {
   "cell_type": "code",
   "execution_count": 51,
   "id": "6e37be33",
   "metadata": {},
   "outputs": [
    {
     "name": "stdout",
     "output_type": "stream",
     "text": [
      "Epoch 1/50\n",
      "51/51 [==============================] - 0s 530us/step - loss: 0.9820\n",
      "Epoch 2/50\n",
      "51/51 [==============================] - 0s 510us/step - loss: 0.9209\n",
      "Epoch 3/50\n",
      "51/51 [==============================] - 0s 471us/step - loss: 0.6624\n",
      "Epoch 4/50\n",
      "51/51 [==============================] - 0s 510us/step - loss: 0.3805\n",
      "Epoch 5/50\n",
      "51/51 [==============================] - 0s 510us/step - loss: 0.2615\n",
      "Epoch 6/50\n",
      "51/51 [==============================] - 0s 490us/step - loss: 0.2254\n",
      "Epoch 7/50\n",
      "51/51 [==============================] - 0s 569us/step - loss: 0.2068\n",
      "Epoch 8/50\n",
      "51/51 [==============================] - 0s 530us/step - loss: 0.1941\n",
      "Epoch 9/50\n",
      "51/51 [==============================] - 0s 490us/step - loss: 0.1840\n",
      "Epoch 10/50\n",
      "51/51 [==============================] - 0s 530us/step - loss: 0.1757\n",
      "Epoch 11/50\n",
      "51/51 [==============================] - 0s 549us/step - loss: 0.1690\n",
      "Epoch 12/50\n",
      "51/51 [==============================] - 0s 490us/step - loss: 0.1633\n",
      "Epoch 13/50\n",
      "51/51 [==============================] - 0s 549us/step - loss: 0.1581\n",
      "Epoch 14/50\n",
      "51/51 [==============================] - 0s 510us/step - loss: 0.1538\n",
      "Epoch 15/50\n",
      "51/51 [==============================] - 0s 530us/step - loss: 0.1504\n",
      "Epoch 16/50\n",
      "51/51 [==============================] - 0s 510us/step - loss: 0.1464\n",
      "Epoch 17/50\n",
      "51/51 [==============================] - 0s 510us/step - loss: 0.1432\n",
      "Epoch 18/50\n",
      "51/51 [==============================] - 0s 529us/step - loss: 0.1401\n",
      "Epoch 19/50\n",
      "51/51 [==============================] - 0s 530us/step - loss: 0.1376\n",
      "Epoch 20/50\n",
      "51/51 [==============================] - 0s 530us/step - loss: 0.1344\n",
      "Epoch 21/50\n",
      "51/51 [==============================] - 0s 510us/step - loss: 0.1313\n",
      "Epoch 22/50\n",
      "51/51 [==============================] - 0s 490us/step - loss: 0.1307\n",
      "Epoch 23/50\n",
      "51/51 [==============================] - 0s 549us/step - loss: 0.1279\n",
      "Epoch 24/50\n",
      "51/51 [==============================] - 0s 530us/step - loss: 0.1262\n",
      "Epoch 25/50\n",
      "51/51 [==============================] - 0s 549us/step - loss: 0.1247\n",
      "Epoch 26/50\n",
      "51/51 [==============================] - 0s 530us/step - loss: 0.1233\n",
      "Epoch 27/50\n",
      "51/51 [==============================] - 0s 530us/step - loss: 0.1221\n",
      "Epoch 28/50\n",
      "51/51 [==============================] - 0s 588us/step - loss: 0.1204\n",
      "Epoch 29/50\n",
      "51/51 [==============================] - 0s 530us/step - loss: 0.1197\n",
      "Epoch 30/50\n",
      "51/51 [==============================] - 0s 510us/step - loss: 0.1184\n",
      "Epoch 31/50\n",
      "51/51 [==============================] - 0s 510us/step - loss: 0.1176\n",
      "Epoch 32/50\n",
      "51/51 [==============================] - 0s 510us/step - loss: 0.1162\n",
      "Epoch 33/50\n",
      "51/51 [==============================] - 0s 490us/step - loss: 0.1154\n",
      "Epoch 34/50\n",
      "51/51 [==============================] - 0s 530us/step - loss: 0.1148\n",
      "Epoch 35/50\n",
      "51/51 [==============================] - 0s 508us/step - loss: 0.1135\n",
      "Epoch 36/50\n",
      "51/51 [==============================] - 0s 531us/step - loss: 0.1128\n",
      "Epoch 37/50\n",
      "51/51 [==============================] - 0s 471us/step - loss: 0.1117\n",
      "Epoch 38/50\n",
      "51/51 [==============================] - 0s 530us/step - loss: 0.1115\n",
      "Epoch 39/50\n",
      "51/51 [==============================] - 0s 510us/step - loss: 0.1110\n",
      "Epoch 40/50\n",
      "51/51 [==============================] - 0s 490us/step - loss: 0.1111\n",
      "Epoch 41/50\n",
      "51/51 [==============================] - 0s 569us/step - loss: 0.1097\n",
      "Epoch 42/50\n",
      "51/51 [==============================] - 0s 530us/step - loss: 0.1089\n",
      "Epoch 43/50\n",
      "51/51 [==============================] - 0s 530us/step - loss: 0.1087\n",
      "Epoch 44/50\n",
      "51/51 [==============================] - 0s 471us/step - loss: 0.1079\n",
      "Epoch 45/50\n",
      "51/51 [==============================] - 0s 490us/step - loss: 0.1078\n",
      "Epoch 46/50\n",
      "51/51 [==============================] - 0s 471us/step - loss: 0.1073\n",
      "Epoch 47/50\n",
      "51/51 [==============================] - 0s 490us/step - loss: 0.1068\n",
      "Epoch 48/50\n",
      "51/51 [==============================] - 0s 510us/step - loss: 0.1066\n",
      "Epoch 49/50\n",
      "51/51 [==============================] - 0s 490us/step - loss: 0.1065\n",
      "Epoch 50/50\n",
      "51/51 [==============================] - 0s 490us/step - loss: 0.1056\n"
     ]
    },
    {
     "data": {
      "text/plain": [
       "<tensorflow.python.keras.callbacks.History at 0x2073025cd00>"
      ]
     },
     "execution_count": 51,
     "metadata": {},
     "output_type": "execute_result"
    }
   ],
   "source": [
    "# crear el modelo de ANN\n",
    "model = Sequential()\n",
    " \n",
    "#Definir la capa de entrada y la PRIMERA capa oculta\n",
    "model.add(Dense(units=5, input_dim=7, kernel_initializer='normal', activation='relu'))\n",
    " \n",
    "#Definición de la segunda capa del modelo\n",
    "#Después de la primera capa, no tenemos que especificar input_dim ya que Keras lo configura automáticamente\n",
    "model.add(Dense(units=5, kernel_initializer='normal', activation='tanh'))\n",
    " \n",
    "#La neurona de salida es un solo nodo completamente conectado.\n",
    "#Ya que estaremos prediciendo un solo número\n",
    "model.add(Dense(1, kernel_initializer='normal'))\n",
    " \n",
    "#Compilar el modelo\n",
    "model.compile(loss='mean_squared_error', optimizer='adam')\n",
    "\n",
    "#Ajustar el modelo de ANN\n",
    "model.fit(X_train, y_train ,batch_size = 20, epochs = 50, verbose=1)"
   ]
  },
  {
   "cell_type": "markdown",
   "id": "475a07a7",
   "metadata": {},
   "source": [
    "## Hyperparameter tuning of ANN"
   ]
  },
  {
   "cell_type": "markdown",
   "id": "8f97e2f1",
   "metadata": {},
   "source": [
    "Encontrar los mejores valores para batch_size y epoch es muy importante ya que afecta directamente el rendimiento del modelo. Los valores incorrectos pueden provocar un sobreajuste o un ajuste insuficiente. Estoy mostrando dos enfoques para ajustar los parámetros de la ANN. Además de epoch y batch_size, también puede elegir ajustar el número óptimo de neuronas, el número óptimo de capas, etc.\n",
    "\n",
    "No existe una regla general que pueda ayudarlo a decidir la cantidad de capas/cantidad de neuronas, etc. en el primer vistazo a los datos. Debe probar diferentes parámetros y elegir la combinación que produzca la mayor precisión.\n",
    "\n",
    "Solo tenga en cuenta que, cuanto más grande es la red, más computacionalmente intensiva es, por lo tanto, llevará más tiempo ejecutarla. Así que siempre para encontrar la mejor precisión con el mínimo número de capas/neuronas."
   ]
  },
  {
   "cell_type": "markdown",
   "id": "18ed3fa1",
   "metadata": {},
   "source": [
    "### Encontrar el mejor conjunto de parámetros mediante la búsqueda manual en grid search"
   ]
  },
  {
   "cell_type": "code",
   "execution_count": 52,
   "id": "6722eecf",
   "metadata": {},
   "outputs": [
    {
     "name": "stdout",
     "output_type": "stream",
     "text": [
      "1 Parameters: batch_size: 5 - epochs: 5 Accuracy: 38.36972423892313\n"
     ]
    },
    {
     "name": "stderr",
     "output_type": "stream",
     "text": [
      "C:\\Users\\Al3xa\\AppData\\Local\\Temp\\ipykernel_5032\\4019521840.py:39: FutureWarning: The frame.append method is deprecated and will be removed from pandas in a future version. Use pandas.concat instead.\n",
      "  SearchResultsData=SearchResultsData.append(pd.DataFrame(data=[[TrialNumber, str(batch_size_trial)+'-'+str(epochs_trial), 100-MAPE]],\n"
     ]
    },
    {
     "name": "stdout",
     "output_type": "stream",
     "text": [
      "2 Parameters: batch_size: 5 - epochs: 10 Accuracy: 42.21453378115441\n"
     ]
    },
    {
     "name": "stderr",
     "output_type": "stream",
     "text": [
      "C:\\Users\\Al3xa\\AppData\\Local\\Temp\\ipykernel_5032\\4019521840.py:39: FutureWarning: The frame.append method is deprecated and will be removed from pandas in a future version. Use pandas.concat instead.\n",
      "  SearchResultsData=SearchResultsData.append(pd.DataFrame(data=[[TrialNumber, str(batch_size_trial)+'-'+str(epochs_trial), 100-MAPE]],\n"
     ]
    },
    {
     "name": "stdout",
     "output_type": "stream",
     "text": [
      "3 Parameters: batch_size: 5 - epochs: 50 Accuracy: 53.85723722280967\n"
     ]
    },
    {
     "name": "stderr",
     "output_type": "stream",
     "text": [
      "C:\\Users\\Al3xa\\AppData\\Local\\Temp\\ipykernel_5032\\4019521840.py:39: FutureWarning: The frame.append method is deprecated and will be removed from pandas in a future version. Use pandas.concat instead.\n",
      "  SearchResultsData=SearchResultsData.append(pd.DataFrame(data=[[TrialNumber, str(batch_size_trial)+'-'+str(epochs_trial), 100-MAPE]],\n"
     ]
    },
    {
     "name": "stdout",
     "output_type": "stream",
     "text": [
      "4 Parameters: batch_size: 5 - epochs: 100 Accuracy: 42.478883000157644\n"
     ]
    },
    {
     "name": "stderr",
     "output_type": "stream",
     "text": [
      "C:\\Users\\Al3xa\\AppData\\Local\\Temp\\ipykernel_5032\\4019521840.py:39: FutureWarning: The frame.append method is deprecated and will be removed from pandas in a future version. Use pandas.concat instead.\n",
      "  SearchResultsData=SearchResultsData.append(pd.DataFrame(data=[[TrialNumber, str(batch_size_trial)+'-'+str(epochs_trial), 100-MAPE]],\n"
     ]
    },
    {
     "name": "stdout",
     "output_type": "stream",
     "text": [
      "5 Parameters: batch_size: 10 - epochs: 5 Accuracy: 43.038726150257475\n"
     ]
    },
    {
     "name": "stderr",
     "output_type": "stream",
     "text": [
      "C:\\Users\\Al3xa\\AppData\\Local\\Temp\\ipykernel_5032\\4019521840.py:39: FutureWarning: The frame.append method is deprecated and will be removed from pandas in a future version. Use pandas.concat instead.\n",
      "  SearchResultsData=SearchResultsData.append(pd.DataFrame(data=[[TrialNumber, str(batch_size_trial)+'-'+str(epochs_trial), 100-MAPE]],\n"
     ]
    },
    {
     "name": "stdout",
     "output_type": "stream",
     "text": [
      "6 Parameters: batch_size: 10 - epochs: 10 Accuracy: 42.163629233269226\n"
     ]
    },
    {
     "name": "stderr",
     "output_type": "stream",
     "text": [
      "C:\\Users\\Al3xa\\AppData\\Local\\Temp\\ipykernel_5032\\4019521840.py:39: FutureWarning: The frame.append method is deprecated and will be removed from pandas in a future version. Use pandas.concat instead.\n",
      "  SearchResultsData=SearchResultsData.append(pd.DataFrame(data=[[TrialNumber, str(batch_size_trial)+'-'+str(epochs_trial), 100-MAPE]],\n"
     ]
    },
    {
     "name": "stdout",
     "output_type": "stream",
     "text": [
      "7 Parameters: batch_size: 10 - epochs: 50 Accuracy: 56.9292326539466\n"
     ]
    },
    {
     "name": "stderr",
     "output_type": "stream",
     "text": [
      "C:\\Users\\Al3xa\\AppData\\Local\\Temp\\ipykernel_5032\\4019521840.py:39: FutureWarning: The frame.append method is deprecated and will be removed from pandas in a future version. Use pandas.concat instead.\n",
      "  SearchResultsData=SearchResultsData.append(pd.DataFrame(data=[[TrialNumber, str(batch_size_trial)+'-'+str(epochs_trial), 100-MAPE]],\n"
     ]
    },
    {
     "name": "stdout",
     "output_type": "stream",
     "text": [
      "8 Parameters: batch_size: 10 - epochs: 100 Accuracy: 54.25601853522836\n"
     ]
    },
    {
     "name": "stderr",
     "output_type": "stream",
     "text": [
      "C:\\Users\\Al3xa\\AppData\\Local\\Temp\\ipykernel_5032\\4019521840.py:39: FutureWarning: The frame.append method is deprecated and will be removed from pandas in a future version. Use pandas.concat instead.\n",
      "  SearchResultsData=SearchResultsData.append(pd.DataFrame(data=[[TrialNumber, str(batch_size_trial)+'-'+str(epochs_trial), 100-MAPE]],\n"
     ]
    },
    {
     "name": "stdout",
     "output_type": "stream",
     "text": [
      "9 Parameters: batch_size: 15 - epochs: 5 Accuracy: 66.72186415563431\n"
     ]
    },
    {
     "name": "stderr",
     "output_type": "stream",
     "text": [
      "C:\\Users\\Al3xa\\AppData\\Local\\Temp\\ipykernel_5032\\4019521840.py:39: FutureWarning: The frame.append method is deprecated and will be removed from pandas in a future version. Use pandas.concat instead.\n",
      "  SearchResultsData=SearchResultsData.append(pd.DataFrame(data=[[TrialNumber, str(batch_size_trial)+'-'+str(epochs_trial), 100-MAPE]],\n"
     ]
    },
    {
     "name": "stdout",
     "output_type": "stream",
     "text": [
      "10 Parameters: batch_size: 15 - epochs: 10 Accuracy: 32.891264631077945\n"
     ]
    },
    {
     "name": "stderr",
     "output_type": "stream",
     "text": [
      "C:\\Users\\Al3xa\\AppData\\Local\\Temp\\ipykernel_5032\\4019521840.py:39: FutureWarning: The frame.append method is deprecated and will be removed from pandas in a future version. Use pandas.concat instead.\n",
      "  SearchResultsData=SearchResultsData.append(pd.DataFrame(data=[[TrialNumber, str(batch_size_trial)+'-'+str(epochs_trial), 100-MAPE]],\n"
     ]
    },
    {
     "name": "stdout",
     "output_type": "stream",
     "text": [
      "11 Parameters: batch_size: 15 - epochs: 50 Accuracy: 54.19555400510001\n"
     ]
    },
    {
     "name": "stderr",
     "output_type": "stream",
     "text": [
      "C:\\Users\\Al3xa\\AppData\\Local\\Temp\\ipykernel_5032\\4019521840.py:39: FutureWarning: The frame.append method is deprecated and will be removed from pandas in a future version. Use pandas.concat instead.\n",
      "  SearchResultsData=SearchResultsData.append(pd.DataFrame(data=[[TrialNumber, str(batch_size_trial)+'-'+str(epochs_trial), 100-MAPE]],\n"
     ]
    },
    {
     "name": "stdout",
     "output_type": "stream",
     "text": [
      "12 Parameters: batch_size: 15 - epochs: 100 Accuracy: 55.316316467219124\n"
     ]
    },
    {
     "name": "stderr",
     "output_type": "stream",
     "text": [
      "C:\\Users\\Al3xa\\AppData\\Local\\Temp\\ipykernel_5032\\4019521840.py:39: FutureWarning: The frame.append method is deprecated and will be removed from pandas in a future version. Use pandas.concat instead.\n",
      "  SearchResultsData=SearchResultsData.append(pd.DataFrame(data=[[TrialNumber, str(batch_size_trial)+'-'+str(epochs_trial), 100-MAPE]],\n"
     ]
    },
    {
     "name": "stdout",
     "output_type": "stream",
     "text": [
      "13 Parameters: batch_size: 20 - epochs: 5 Accuracy: 37.5567035946278\n"
     ]
    },
    {
     "name": "stderr",
     "output_type": "stream",
     "text": [
      "C:\\Users\\Al3xa\\AppData\\Local\\Temp\\ipykernel_5032\\4019521840.py:39: FutureWarning: The frame.append method is deprecated and will be removed from pandas in a future version. Use pandas.concat instead.\n",
      "  SearchResultsData=SearchResultsData.append(pd.DataFrame(data=[[TrialNumber, str(batch_size_trial)+'-'+str(epochs_trial), 100-MAPE]],\n"
     ]
    },
    {
     "name": "stdout",
     "output_type": "stream",
     "text": [
      "14 Parameters: batch_size: 20 - epochs: 10 Accuracy: 36.48124195228143\n"
     ]
    },
    {
     "name": "stderr",
     "output_type": "stream",
     "text": [
      "C:\\Users\\Al3xa\\AppData\\Local\\Temp\\ipykernel_5032\\4019521840.py:39: FutureWarning: The frame.append method is deprecated and will be removed from pandas in a future version. Use pandas.concat instead.\n",
      "  SearchResultsData=SearchResultsData.append(pd.DataFrame(data=[[TrialNumber, str(batch_size_trial)+'-'+str(epochs_trial), 100-MAPE]],\n"
     ]
    },
    {
     "name": "stdout",
     "output_type": "stream",
     "text": [
      "15 Parameters: batch_size: 20 - epochs: 50 Accuracy: 52.64961207782079\n"
     ]
    },
    {
     "name": "stderr",
     "output_type": "stream",
     "text": [
      "C:\\Users\\Al3xa\\AppData\\Local\\Temp\\ipykernel_5032\\4019521840.py:39: FutureWarning: The frame.append method is deprecated and will be removed from pandas in a future version. Use pandas.concat instead.\n",
      "  SearchResultsData=SearchResultsData.append(pd.DataFrame(data=[[TrialNumber, str(batch_size_trial)+'-'+str(epochs_trial), 100-MAPE]],\n"
     ]
    },
    {
     "name": "stdout",
     "output_type": "stream",
     "text": [
      "16 Parameters: batch_size: 20 - epochs: 100 Accuracy: 57.48463039296894\n"
     ]
    },
    {
     "name": "stderr",
     "output_type": "stream",
     "text": [
      "C:\\Users\\Al3xa\\AppData\\Local\\Temp\\ipykernel_5032\\4019521840.py:39: FutureWarning: The frame.append method is deprecated and will be removed from pandas in a future version. Use pandas.concat instead.\n",
      "  SearchResultsData=SearchResultsData.append(pd.DataFrame(data=[[TrialNumber, str(batch_size_trial)+'-'+str(epochs_trial), 100-MAPE]],\n"
     ]
    }
   ],
   "source": [
    "#Definición de una función para encontrar los mejores parámetros para ANN\n",
    "def FunctionFindBestParams(X_train, y_train, X_test, y_test):\n",
    "    \n",
    "    #Definición de la lista de hiperparámetros para probar\n",
    "    batch_size_list=[5, 10, 15, 20]\n",
    "    epoch_list  =   [5, 10, 50, 100]\n",
    "    \n",
    "    import pandas as pd\n",
    "    SearchResultsData=pd.DataFrame(columns=['TrialNumber', 'Parameters', 'Accuracy'])\n",
    "    \n",
    "    #inicializando pruebas\n",
    "    TrialNumber=0\n",
    "    for batch_size_trial in batch_size_list:\n",
    "        for epochs_trial in epoch_list:\n",
    "            TrialNumber+=1\n",
    "            # crear el modelo de ANN\n",
    "            model = Sequential()\n",
    "            # Definición de la primera capa del modelo.\n",
    "            model.add(Dense(units=5, input_dim=X_train.shape[1], kernel_initializer='normal', activation='relu'))\n",
    "\n",
    "            # Definición de la segunda capa del modelo\n",
    "            model.add(Dense(units=5, kernel_initializer='normal', activation='relu'))\n",
    "\n",
    "            # La neurona de salida es un solo nodo completamente conectado.\n",
    "            # Ya que estaremos prediciendo un solo número\n",
    "            model.add(Dense(1, kernel_initializer='normal'))\n",
    "\n",
    "            # Compilar el modelo\n",
    "            model.compile(loss='mean_squared_error', optimizer='adam')\n",
    "\n",
    "            # Ajuste de la ANN al conjunto de entrenamiento\n",
    "            model.fit(X_train, y_train ,batch_size = batch_size_trial, epochs = epochs_trial, verbose=0)\n",
    "\n",
    "            MAPE = np.mean(100 * (np.abs(y_test-model.predict(X_test))/y_test))\n",
    "            \n",
    "            # Imprimir resultados \n",
    "            print(TrialNumber, 'Parameters:','batch_size:', batch_size_trial,'-', 'epochs:',epochs_trial, 'Accuracy:', 100-MAPE)\n",
    "            \n",
    "            SearchResultsData=SearchResultsData.append(pd.DataFrame(data=[[TrialNumber, str(batch_size_trial)+'-'+str(epochs_trial), 100-MAPE]],\n",
    "                                                                    columns=['TrialNumber', 'Parameters', 'Accuracy'] ))\n",
    "    return(SearchResultsData)\n",
    "\n",
    "\n",
    "######################################################\n",
    "# LLamar la función\n",
    "ResultsData=FunctionFindBestParams(X_train, y_train, X_test, y_test)"
   ]
  },
  {
   "cell_type": "markdown",
   "id": "49d26f31",
   "metadata": {},
   "source": [
    "# Plotting the parameter trial results"
   ]
  },
  {
   "cell_type": "code",
   "execution_count": 53,
   "id": "9af90acd",
   "metadata": {
    "scrolled": true
   },
   "outputs": [
    {
     "data": {
      "text/plain": [
       "<AxesSubplot:xlabel='Parameters'>"
      ]
     },
     "execution_count": 53,
     "metadata": {},
     "output_type": "execute_result"
    },
    {
     "data": {
      "image/png": "[encoded data removed]",
      "text/plain": [
       "<Figure size 1080x288 with 1 Axes>"
      ]
     },
     "metadata": {
      "needs_background": "light"
     },
     "output_type": "display_data"
    }
   ],
   "source": [
    "%matplotlib inline\n",
    "ResultsData.plot(x='Parameters', y='Accuracy', figsize=(15,4), kind='line')"
   ]
  },
  {
   "cell_type": "markdown",
   "id": "42da23ca",
   "metadata": {},
   "source": [
    "Visualización de los resultados de las pruebas de parámetros para ANN\n",
    "\n",
    "Este gráfico muestra que el mejor conjunto de parámetros son batch_size=15 y epochs=5. El siguiente paso es entrenar el modelo con estos parámetros."
   ]
  },
  {
   "cell_type": "markdown",
   "id": "651ca70f",
   "metadata": {},
   "source": [
    "### Entrenando el modelo ANN con los mejores parámetros"
   ]
  },
  {
   "cell_type": "markdown",
   "id": "6cf0928c",
   "metadata": {},
   "source": [
    "Usando el mejor conjunto de parámetros que se encuentra arriba, entrenando el modelo nuevamente y prediciendo los precios en los datos de prueba."
   ]
  },
  {
   "cell_type": "code",
   "execution_count": 54,
   "id": "53e40990",
   "metadata": {},
   "outputs": [
    {
     "data": {
      "text/html": [
       "<div>\n",
       "<style scoped>\n",
       "    .dataframe tbody tr th:only-of-type {\n",
       "        vertical-align: middle;\n",
       "    }\n",
       "\n",
       "    .dataframe tbody tr th {\n",
       "        vertical-align: top;\n",
       "    }\n",
       "\n",
       "    .dataframe thead th {\n",
       "        text-align: right;\n",
       "    }\n",
       "</style>\n",
       "<table border=\"1\" class=\"dataframe\">\n",
       "  <thead>\n",
       "    <tr style=\"text-align: right;\">\n",
       "      <th></th>\n",
       "      <th>Age</th>\n",
       "      <th>KM</th>\n",
       "      <th>Weight</th>\n",
       "      <th>HP</th>\n",
       "      <th>MetColor</th>\n",
       "      <th>CC</th>\n",
       "      <th>Doors</th>\n",
       "      <th>Price</th>\n",
       "      <th>PredictedPrice</th>\n",
       "    </tr>\n",
       "  </thead>\n",
       "  <tbody>\n",
       "    <tr>\n",
       "      <th>0</th>\n",
       "      <td>59.0</td>\n",
       "      <td>80430.0</td>\n",
       "      <td>1065.0</td>\n",
       "      <td>110.0</td>\n",
       "      <td>1.0</td>\n",
       "      <td>1600.0</td>\n",
       "      <td>3.0</td>\n",
       "      <td>9950.0</td>\n",
       "      <td>9872.820312</td>\n",
       "    </tr>\n",
       "    <tr>\n",
       "      <th>1</th>\n",
       "      <td>62.0</td>\n",
       "      <td>64797.0</td>\n",
       "      <td>1075.0</td>\n",
       "      <td>110.0</td>\n",
       "      <td>1.0</td>\n",
       "      <td>1600.0</td>\n",
       "      <td>5.0</td>\n",
       "      <td>7995.0</td>\n",
       "      <td>10009.720703</td>\n",
       "    </tr>\n",
       "    <tr>\n",
       "      <th>2</th>\n",
       "      <td>59.0</td>\n",
       "      <td>130000.0</td>\n",
       "      <td>1135.0</td>\n",
       "      <td>72.0</td>\n",
       "      <td>1.0</td>\n",
       "      <td>2000.0</td>\n",
       "      <td>4.0</td>\n",
       "      <td>7500.0</td>\n",
       "      <td>8889.928711</td>\n",
       "    </tr>\n",
       "    <tr>\n",
       "      <th>3</th>\n",
       "      <td>69.0</td>\n",
       "      <td>42800.0</td>\n",
       "      <td>1050.0</td>\n",
       "      <td>110.0</td>\n",
       "      <td>1.0</td>\n",
       "      <td>1600.0</td>\n",
       "      <td>3.0</td>\n",
       "      <td>9950.0</td>\n",
       "      <td>9255.093750</td>\n",
       "    </tr>\n",
       "    <tr>\n",
       "      <th>4</th>\n",
       "      <td>65.0</td>\n",
       "      <td>47014.0</td>\n",
       "      <td>1015.0</td>\n",
       "      <td>86.0</td>\n",
       "      <td>1.0</td>\n",
       "      <td>1300.0</td>\n",
       "      <td>3.0</td>\n",
       "      <td>8950.0</td>\n",
       "      <td>8795.802734</td>\n",
       "    </tr>\n",
       "  </tbody>\n",
       "</table>\n",
       "</div>"
      ],
      "text/plain": [
       "    Age        KM  Weight     HP  MetColor      CC  Doors   Price  \\\n",
       "0  59.0   80430.0  1065.0  110.0       1.0  1600.0    3.0  9950.0   \n",
       "1  62.0   64797.0  1075.0  110.0       1.0  1600.0    5.0  7995.0   \n",
       "2  59.0  130000.0  1135.0   72.0       1.0  2000.0    4.0  7500.0   \n",
       "3  69.0   42800.0  1050.0  110.0       1.0  1600.0    3.0  9950.0   \n",
       "4  65.0   47014.0  1015.0   86.0       1.0  1300.0    3.0  8950.0   \n",
       "\n",
       "   PredictedPrice  \n",
       "0     9872.820312  \n",
       "1    10009.720703  \n",
       "2     8889.928711  \n",
       "3     9255.093750  \n",
       "4     8795.802734  "
      ]
     },
     "execution_count": 54,
     "metadata": {},
     "output_type": "execute_result"
    }
   ],
   "source": [
    "# Ajuste de la ANN al conjunto de entrenamiento\n",
    "model.fit(X_train, y_train ,batch_size = 15, epochs = 5, verbose=0)\n",
    " \n",
    "# Generación de predicciones sobre datos de prueba\n",
    "Predictions=model.predict(X_test)\n",
    " \n",
    "# Escalar datos de la variable objetivo y variables de entrada\n",
    "Predictions=VariableObjetivoFit.inverse_transform(Predictions)\n",
    "y_test_orig=VariableObjetivoFit.inverse_transform(y_test)\n",
    "Test_Data=VariablesEntradaFit.inverse_transform(X_test)\n",
    " \n",
    "TestingData=pd.DataFrame(data=Test_Data, columns=VariablesEntrada)\n",
    "TestingData['Price']=y_test_orig\n",
    "TestingData['PredictedPrice']=Predictions\n",
    "TestingData.head()"
   ]
  },
  {
   "cell_type": "markdown",
   "id": "ef63141a",
   "metadata": {},
   "source": [
    "### Encontrar la precisión del modelo."
   ]
  },
  {
   "cell_type": "markdown",
   "id": "612c986a",
   "metadata": {},
   "source": [
    "Usando el modelo entrenado final, ahora estamos generando el error de predicción para cada fila en los datos de prueba como el error de porcentaje absoluto. Tomar el promedio de todas las filas se conoce como error porcentual absoluto medio (MAPE).\n",
    "\n",
    "La precisión se calcula como 100-MAPE."
   ]
  },
  {
   "cell_type": "code",
   "execution_count": 55,
   "id": "ab0ee2f2",
   "metadata": {},
   "outputs": [
    {
     "name": "stdout",
     "output_type": "stream",
     "text": [
      "Accuracy del modelo ANN es: 91.13022561590302\n"
     ]
    },
    {
     "data": {
      "text/html": [
       "<div>\n",
       "<style scoped>\n",
       "    .dataframe tbody tr th:only-of-type {\n",
       "        vertical-align: middle;\n",
       "    }\n",
       "\n",
       "    .dataframe tbody tr th {\n",
       "        vertical-align: top;\n",
       "    }\n",
       "\n",
       "    .dataframe thead th {\n",
       "        text-align: right;\n",
       "    }\n",
       "</style>\n",
       "<table border=\"1\" class=\"dataframe\">\n",
       "  <thead>\n",
       "    <tr style=\"text-align: right;\">\n",
       "      <th></th>\n",
       "      <th>Age</th>\n",
       "      <th>KM</th>\n",
       "      <th>Weight</th>\n",
       "      <th>HP</th>\n",
       "      <th>MetColor</th>\n",
       "      <th>CC</th>\n",
       "      <th>Doors</th>\n",
       "      <th>Price</th>\n",
       "      <th>PredictedPrice</th>\n",
       "      <th>APE</th>\n",
       "    </tr>\n",
       "  </thead>\n",
       "  <tbody>\n",
       "    <tr>\n",
       "      <th>0</th>\n",
       "      <td>59.0</td>\n",
       "      <td>80430.0</td>\n",
       "      <td>1065.0</td>\n",
       "      <td>110.0</td>\n",
       "      <td>1.0</td>\n",
       "      <td>1600.0</td>\n",
       "      <td>3.0</td>\n",
       "      <td>9950.0</td>\n",
       "      <td>9872.820312</td>\n",
       "      <td>0.775675</td>\n",
       "    </tr>\n",
       "    <tr>\n",
       "      <th>1</th>\n",
       "      <td>62.0</td>\n",
       "      <td>64797.0</td>\n",
       "      <td>1075.0</td>\n",
       "      <td>110.0</td>\n",
       "      <td>1.0</td>\n",
       "      <td>1600.0</td>\n",
       "      <td>5.0</td>\n",
       "      <td>7995.0</td>\n",
       "      <td>10009.720703</td>\n",
       "      <td>25.199759</td>\n",
       "    </tr>\n",
       "    <tr>\n",
       "      <th>2</th>\n",
       "      <td>59.0</td>\n",
       "      <td>130000.0</td>\n",
       "      <td>1135.0</td>\n",
       "      <td>72.0</td>\n",
       "      <td>1.0</td>\n",
       "      <td>2000.0</td>\n",
       "      <td>4.0</td>\n",
       "      <td>7500.0</td>\n",
       "      <td>8889.928711</td>\n",
       "      <td>18.532383</td>\n",
       "    </tr>\n",
       "    <tr>\n",
       "      <th>3</th>\n",
       "      <td>69.0</td>\n",
       "      <td>42800.0</td>\n",
       "      <td>1050.0</td>\n",
       "      <td>110.0</td>\n",
       "      <td>1.0</td>\n",
       "      <td>1600.0</td>\n",
       "      <td>3.0</td>\n",
       "      <td>9950.0</td>\n",
       "      <td>9255.093750</td>\n",
       "      <td>6.983982</td>\n",
       "    </tr>\n",
       "    <tr>\n",
       "      <th>4</th>\n",
       "      <td>65.0</td>\n",
       "      <td>47014.0</td>\n",
       "      <td>1015.0</td>\n",
       "      <td>86.0</td>\n",
       "      <td>1.0</td>\n",
       "      <td>1300.0</td>\n",
       "      <td>3.0</td>\n",
       "      <td>8950.0</td>\n",
       "      <td>8795.802734</td>\n",
       "      <td>1.722874</td>\n",
       "    </tr>\n",
       "  </tbody>\n",
       "</table>\n",
       "</div>"
      ],
      "text/plain": [
       "    Age        KM  Weight     HP  MetColor      CC  Doors   Price  \\\n",
       "0  59.0   80430.0  1065.0  110.0       1.0  1600.0    3.0  9950.0   \n",
       "1  62.0   64797.0  1075.0  110.0       1.0  1600.0    5.0  7995.0   \n",
       "2  59.0  130000.0  1135.0   72.0       1.0  2000.0    4.0  7500.0   \n",
       "3  69.0   42800.0  1050.0  110.0       1.0  1600.0    3.0  9950.0   \n",
       "4  65.0   47014.0  1015.0   86.0       1.0  1300.0    3.0  8950.0   \n",
       "\n",
       "   PredictedPrice        APE  \n",
       "0     9872.820312   0.775675  \n",
       "1    10009.720703  25.199759  \n",
       "2     8889.928711  18.532383  \n",
       "3     9255.093750   6.983982  \n",
       "4     8795.802734   1.722874  "
      ]
     },
     "execution_count": 55,
     "metadata": {},
     "output_type": "execute_result"
    }
   ],
   "source": [
    "# Cálculo del error porcentual absoluto\n",
    "APE=100*(abs(TestingData['Price']-TestingData['PredictedPrice'])/TestingData['Price'])\n",
    "TestingData['APE']=APE\n",
    " \n",
    "print('Accuracy del modelo ANN es:', 100-np.mean(APE))\n",
    "TestingData.head()"
   ]
  },
  {
   "cell_type": "markdown",
   "id": "6319adad",
   "metadata": {},
   "source": [
    "## Ajuste de modelos de Regresión alternativos"
   ]
  },
  {
   "cell_type": "code",
   "execution_count": 56,
   "id": "a2e675b3",
   "metadata": {},
   "outputs": [
    {
     "name": "stdout",
     "output_type": "stream",
     "text": [
      "LinearRegression()\n"
     ]
    }
   ],
   "source": [
    "# Multiple Linear Regression\n",
    "from sklearn.linear_model import LinearRegression\n",
    "RegModel = LinearRegression()\n",
    "\n",
    "# Imprimiendo todos los parámetros de regresión lineal\n",
    "print(RegModel)\n",
    "\n",
    "# Creando el modelo en datos de entrenamiento\n",
    "LREG=RegModel.fit(X_train,y_train)\n",
    "prediction=LREG.predict(X_test)"
   ]
  },
  {
   "cell_type": "code",
   "execution_count": 57,
   "id": "17b9a2a1",
   "metadata": {},
   "outputs": [
    {
     "name": "stdout",
     "output_type": "stream",
     "text": [
      "R2 Value: 0.8692060582703885\n",
      "\n",
      "##### Validación de modelos y cálculos de precisión ##########\n"
     ]
    }
   ],
   "source": [
    "from sklearn import metrics\n",
    "# Medición de ajuste en datos de entrenamiento\n",
    "print('R2 Value:',metrics.r2_score(y_train, LREG.predict(X_train)))\n",
    "\n",
    "###########################################################################\n",
    "print('\\n##### Validación de modelos y cálculos de precisión ##########')"
   ]
  },
  {
   "cell_type": "code",
   "execution_count": 58,
   "id": "48e12f0a",
   "metadata": {},
   "outputs": [],
   "source": [
    "# Imprimir algunos valores de muestra de predicción\n",
    "TestingDataResults=pd.DataFrame(data=X_test, columns=VariablesEntrada)\n",
    "TestingDataResults[VariableObjetivo]=y_test\n",
    "TestingDataResults[('Predicted'+'Price')]=np.round(prediction)"
   ]
  },
  {
   "cell_type": "code",
   "execution_count": 59,
   "id": "afbd823f",
   "metadata": {},
   "outputs": [
    {
     "name": "stdout",
     "output_type": "stream",
     "text": [
      "      Price  PredictedPrice\n",
      "0 -0.213699            -0.0\n",
      "1 -0.755630            -0.0\n",
      "2 -0.892845            -0.0\n",
      "3 -0.213699            -0.0\n",
      "4 -0.490902            -1.0\n",
      "Mean Accuracy de test data: 118.55047581692564\n",
      "Median Accuracy de test data: 123.50494696458705\n",
      "\n",
      "Valores de precisión para la validación cruzada de 10 veces:\n",
      " [  74.86291742   49.48973698  -28.04531842 -100.85634274  164.363024\n",
      "   99.24053025  142.34636439   92.66474347  134.82462171  129.05363274]\n",
      "\n",
      "Precisión media final del modelo: 75.79\n"
     ]
    }
   ],
   "source": [
    "# Impresión de valores muestra de la predicción\n",
    "print(TestingDataResults[['Price','Predicted'+'Price']].head())\n",
    "\n",
    "# Cálculo del error para cada fila\n",
    "TestingDataResults['APE']=100 * ((abs(\n",
    "  TestingDataResults['Price']-TestingDataResults['PredictedPrice']))/TestingDataResults['Price'])\n",
    "\n",
    "MAPE=np.mean(TestingDataResults['APE'])\n",
    "MedianMAPE=np.median(TestingDataResults['APE'])\n",
    "\n",
    "Accuracy =100 - MAPE\n",
    "MedianAccuracy=100- MedianMAPE\n",
    "print('Mean Accuracy de test data:', Accuracy) # Can be negative sometimes due to outlier\n",
    "print('Median Accuracy de test data:', MedianAccuracy)\n",
    "\n",
    "#Accuracy Score\n",
    "def Accuracy_Score(orig,pred):\n",
    "    MAPE = np.mean(100 * (np.abs(orig-pred)/orig))\n",
    "    #print('#'*70,'Accuracy:', 100-MAPE)\n",
    "    return(100-MAPE)\n",
    "\n",
    "# Cálculo MAPE de puntuación personalizada\n",
    "from sklearn.metrics import make_scorer\n",
    "custom_Scoring=make_scorer(Accuracy_Score, greater_is_better=True)\n",
    "\n",
    "# Importación de la función de validación cruzada de sklearn\n",
    "from sklearn.model_selection import cross_val_score\n",
    "\n",
    "# Ejecutar validación cruzada de 10 veces en un algoritmo dado\n",
    "# Pasar datos completos X e y porque el K-fold dividirá los datos y automáticamente elegirá entrenar/probar\n",
    "Accuracy_Values=cross_val_score(RegModel, X , y, cv=10, scoring=custom_Scoring)\n",
    "print('\\nValores de precisión para la validación cruzada de 10 veces:\\n',Accuracy_Values)\n",
    "print('\\nPrecisión media final del modelo:', round(Accuracy_Values.mean(),2))\n"
   ]
  },
  {
   "cell_type": "code",
   "execution_count": null,
   "id": "b00d21cb",
   "metadata": {},
   "outputs": [],
   "source": []
  }
 ],
 "metadata": {
  "kernelspec": {
   "display_name": "Python 3 (ipykernel)",
   "language": "python",
   "name": "python3"
  },
  "language_info": {
   "codemirror_mode": {
    "name": "ipython",
    "version": 3
   },
   "file_extension": ".py",
   "mimetype": "text/x-python",
   "name": "python",
   "nbconvert_exporter": "python",
   "pygments_lexer": "ipython3",
   "version": "3.9.7"
  },
  "toc": {
   "base_numbering": 1,
   "nav_menu": {},
   "number_sections": true,
   "sideBar": true,
   "skip_h1_title": true,
   "title_cell": "Tabla de Contenido",
   "title_sidebar": "Contenido",
   "toc_cell": false,
   "toc_position": {
    "height": "calc(100% - 180px)",
    "left": "10px",
    "top": "150px",
    "width": "263.591px"
   },
   "toc_section_display": true,
   "toc_window_display": true
  }
 },
 "nbformat": 4,
 "nbformat_minor": 5
}
